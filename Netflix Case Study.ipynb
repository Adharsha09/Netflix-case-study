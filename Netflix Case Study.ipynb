{
 "cells": [
  {
   "cell_type": "markdown",
   "id": "05f4de30-c6b6-4870-8111-c4e4e2bed4a2",
   "metadata": {},
   "source": [
    "## Unpacking and Analyzing Netflix Content Data"
   ]
  },
  {
   "cell_type": "markdown",
   "id": "98151bea-de61-46f4-a0dc-85091d5577f4",
   "metadata": {},
   "source": [
    "##### Objective:\n",
    "To preprocess and analyze the Netflix dataset to uncover insights about the content available on the platform. This involves transforming the nested columns (director, cast, country, listed_in, description) into individual records, filling null values, and identifying trends and patterns in the dataset."
   ]
  },
  {
   "cell_type": "code",
   "execution_count": 1,
   "id": "c68d4113-71a0-4aa9-8ab9-245b1a64889f",
   "metadata": {},
   "outputs": [],
   "source": [
    "import pandas as pd\n",
    "import numpy as np\n",
    "import matplotlib.pyplot as plt\n",
    "import seaborn as sns\n",
    "# Imported all necessary libraries"
   ]
  },
  {
   "cell_type": "code",
   "execution_count": 2,
   "id": "fcbb38d2-b202-4faf-98ab-c4930da841c9",
   "metadata": {},
   "outputs": [],
   "source": [
    "df = pd.read_csv(\"netflix.csv\") # Reading the file"
   ]
  },
  {
   "cell_type": "code",
   "execution_count": 3,
   "id": "4a574c95-c8b0-488a-acaf-e45316d04524",
   "metadata": {},
   "outputs": [
    {
     "data": {
      "text/html": [
       "<div>\n",
       "<style scoped>\n",
       "    .dataframe tbody tr th:only-of-type {\n",
       "        vertical-align: middle;\n",
       "    }\n",
       "\n",
       "    .dataframe tbody tr th {\n",
       "        vertical-align: top;\n",
       "    }\n",
       "\n",
       "    .dataframe thead th {\n",
       "        text-align: right;\n",
       "    }\n",
       "</style>\n",
       "<table border=\"1\" class=\"dataframe\">\n",
       "  <thead>\n",
       "    <tr style=\"text-align: right;\">\n",
       "      <th></th>\n",
       "      <th>show_id</th>\n",
       "      <th>type</th>\n",
       "      <th>title</th>\n",
       "      <th>director</th>\n",
       "      <th>cast</th>\n",
       "      <th>country</th>\n",
       "      <th>date_added</th>\n",
       "      <th>release_year</th>\n",
       "      <th>rating</th>\n",
       "      <th>duration</th>\n",
       "      <th>listed_in</th>\n",
       "      <th>description</th>\n",
       "    </tr>\n",
       "  </thead>\n",
       "  <tbody>\n",
       "    <tr>\n",
       "      <th>0</th>\n",
       "      <td>s1</td>\n",
       "      <td>Movie</td>\n",
       "      <td>Dick Johnson Is Dead</td>\n",
       "      <td>Kirsten Johnson</td>\n",
       "      <td>NaN</td>\n",
       "      <td>United States</td>\n",
       "      <td>September 25, 2021</td>\n",
       "      <td>2020</td>\n",
       "      <td>PG-13</td>\n",
       "      <td>90 min</td>\n",
       "      <td>Documentaries</td>\n",
       "      <td>As her father nears the end of his life, filmm...</td>\n",
       "    </tr>\n",
       "    <tr>\n",
       "      <th>1</th>\n",
       "      <td>s2</td>\n",
       "      <td>TV Show</td>\n",
       "      <td>Blood &amp; Water</td>\n",
       "      <td>NaN</td>\n",
       "      <td>Ama Qamata, Khosi Ngema, Gail Mabalane, Thaban...</td>\n",
       "      <td>South Africa</td>\n",
       "      <td>September 24, 2021</td>\n",
       "      <td>2021</td>\n",
       "      <td>TV-MA</td>\n",
       "      <td>2 Seasons</td>\n",
       "      <td>International TV Shows, TV Dramas, TV Mysteries</td>\n",
       "      <td>After crossing paths at a party, a Cape Town t...</td>\n",
       "    </tr>\n",
       "    <tr>\n",
       "      <th>2</th>\n",
       "      <td>s3</td>\n",
       "      <td>TV Show</td>\n",
       "      <td>Ganglands</td>\n",
       "      <td>Julien Leclercq</td>\n",
       "      <td>Sami Bouajila, Tracy Gotoas, Samuel Jouy, Nabi...</td>\n",
       "      <td>NaN</td>\n",
       "      <td>September 24, 2021</td>\n",
       "      <td>2021</td>\n",
       "      <td>TV-MA</td>\n",
       "      <td>1 Season</td>\n",
       "      <td>Crime TV Shows, International TV Shows, TV Act...</td>\n",
       "      <td>To protect his family from a powerful drug lor...</td>\n",
       "    </tr>\n",
       "    <tr>\n",
       "      <th>3</th>\n",
       "      <td>s4</td>\n",
       "      <td>TV Show</td>\n",
       "      <td>Jailbirds New Orleans</td>\n",
       "      <td>NaN</td>\n",
       "      <td>NaN</td>\n",
       "      <td>NaN</td>\n",
       "      <td>September 24, 2021</td>\n",
       "      <td>2021</td>\n",
       "      <td>TV-MA</td>\n",
       "      <td>1 Season</td>\n",
       "      <td>Docuseries, Reality TV</td>\n",
       "      <td>Feuds, flirtations and toilet talk go down amo...</td>\n",
       "    </tr>\n",
       "    <tr>\n",
       "      <th>4</th>\n",
       "      <td>s5</td>\n",
       "      <td>TV Show</td>\n",
       "      <td>Kota Factory</td>\n",
       "      <td>NaN</td>\n",
       "      <td>Mayur More, Jitendra Kumar, Ranjan Raj, Alam K...</td>\n",
       "      <td>India</td>\n",
       "      <td>September 24, 2021</td>\n",
       "      <td>2021</td>\n",
       "      <td>TV-MA</td>\n",
       "      <td>2 Seasons</td>\n",
       "      <td>International TV Shows, Romantic TV Shows, TV ...</td>\n",
       "      <td>In a city of coaching centers known to train I...</td>\n",
       "    </tr>\n",
       "  </tbody>\n",
       "</table>\n",
       "</div>"
      ],
      "text/plain": [
       "  show_id     type                  title         director  \\\n",
       "0      s1    Movie   Dick Johnson Is Dead  Kirsten Johnson   \n",
       "1      s2  TV Show          Blood & Water              NaN   \n",
       "2      s3  TV Show              Ganglands  Julien Leclercq   \n",
       "3      s4  TV Show  Jailbirds New Orleans              NaN   \n",
       "4      s5  TV Show           Kota Factory              NaN   \n",
       "\n",
       "                                                cast        country  \\\n",
       "0                                                NaN  United States   \n",
       "1  Ama Qamata, Khosi Ngema, Gail Mabalane, Thaban...   South Africa   \n",
       "2  Sami Bouajila, Tracy Gotoas, Samuel Jouy, Nabi...            NaN   \n",
       "3                                                NaN            NaN   \n",
       "4  Mayur More, Jitendra Kumar, Ranjan Raj, Alam K...          India   \n",
       "\n",
       "           date_added  release_year rating   duration  \\\n",
       "0  September 25, 2021          2020  PG-13     90 min   \n",
       "1  September 24, 2021          2021  TV-MA  2 Seasons   \n",
       "2  September 24, 2021          2021  TV-MA   1 Season   \n",
       "3  September 24, 2021          2021  TV-MA   1 Season   \n",
       "4  September 24, 2021          2021  TV-MA  2 Seasons   \n",
       "\n",
       "                                           listed_in  \\\n",
       "0                                      Documentaries   \n",
       "1    International TV Shows, TV Dramas, TV Mysteries   \n",
       "2  Crime TV Shows, International TV Shows, TV Act...   \n",
       "3                             Docuseries, Reality TV   \n",
       "4  International TV Shows, Romantic TV Shows, TV ...   \n",
       "\n",
       "                                         description  \n",
       "0  As her father nears the end of his life, filmm...  \n",
       "1  After crossing paths at a party, a Cape Town t...  \n",
       "2  To protect his family from a powerful drug lor...  \n",
       "3  Feuds, flirtations and toilet talk go down amo...  \n",
       "4  In a city of coaching centers known to train I...  "
      ]
     },
     "execution_count": 3,
     "metadata": {},
     "output_type": "execute_result"
    }
   ],
   "source": [
    "df.head()"
   ]
  },
  {
   "cell_type": "code",
   "execution_count": 4,
   "id": "d2a3dcf1-e746-4a52-919f-3bd5a5fbbfc8",
   "metadata": {},
   "outputs": [
    {
     "data": {
      "text/plain": [
       "(8807, 12)"
      ]
     },
     "execution_count": 4,
     "metadata": {},
     "output_type": "execute_result"
    }
   ],
   "source": [
    "df.shape"
   ]
  },
  {
   "cell_type": "markdown",
   "id": "bafc506f-9abe-4f67-b8aa-db9a60c8b93e",
   "metadata": {},
   "source": [
    "This dataset contains 12 columns and 8,807 rows"
   ]
  },
  {
   "cell_type": "code",
   "execution_count": null,
   "id": "2b16fe9c-b146-46ff-ac21-643d316e4b79",
   "metadata": {},
   "outputs": [],
   "source": [
    "df.describe()"
   ]
  },
  {
   "cell_type": "markdown",
   "id": "cb06b7a0-a9ea-432b-bdd9-c074f479fa09",
   "metadata": {},
   "source": [
    "Numerical Column details"
   ]
  },
  {
   "cell_type": "code",
   "execution_count": null,
   "id": "78bcb492-3c0b-4ced-a0d0-01466d702496",
   "metadata": {},
   "outputs": [],
   "source": [
    "df.info()"
   ]
  },
  {
   "cell_type": "markdown",
   "id": "27039b5b-9659-466d-a204-e0b466d53a42",
   "metadata": {},
   "source": [
    "This dataset contains 12 columns and 8,807 rows, with 1 integer column and 11 object columns."
   ]
  },
  {
   "cell_type": "code",
   "execution_count": null,
   "id": "22a73851-13d4-4a77-b53d-1444422cbc19",
   "metadata": {},
   "outputs": [],
   "source": [
    "df.isna().sum()"
   ]
  },
  {
   "cell_type": "code",
   "execution_count": null,
   "id": "adb62f2f-d884-4348-800f-3a9ec271fbe7",
   "metadata": {},
   "outputs": [],
   "source": [
    "missing_values = df.isna().sum().reset_index()\n",
    "missing_values.columns = ['column_name', 'missing_values']\n",
    "\n",
    "# Create a bar plot\n",
    "plt.figure(figsize=(10, 4))\n",
    "sns.barplot(y='missing_values', x='column_name', data=missing_values)\n",
    "plt.title('Number of Missing Values by Column')\n",
    "plt.ylabel('Number of Missing Values')\n",
    "plt.xlabel('Column')\n",
    "plt.xticks(rotation=90, fontsize=10)\n",
    "plt.show()"
   ]
  },
  {
   "cell_type": "markdown",
   "id": "7f24613d-7245-48c1-9b40-d6b6ed657f70",
   "metadata": {},
   "source": [
    "The columns with the most null values are Director, Country, and Cast."
   ]
  },
  {
   "cell_type": "code",
   "execution_count": 9,
   "id": "f2f385a6-c1df-4bee-b2e8-0276f7831afb",
   "metadata": {},
   "outputs": [
    {
     "name": "stdout",
     "output_type": "stream",
     "text": [
      "total null values is 4307\n"
     ]
    }
   ],
   "source": [
    "print(\"total null values is\",df.isna().sum().sum())"
   ]
  },
  {
   "cell_type": "markdown",
   "id": "a1484e04-3b09-4c09-ac77-aa2da88f8b4a",
   "metadata": {},
   "source": [
    "### Data Preprocessing"
   ]
  },
  {
   "cell_type": "markdown",
   "id": "451da7e9-ba6e-4364-a5ae-1a5b6d8d8180",
   "metadata": {},
   "source": [
    "##### Un-nesting the columns"
   ]
  },
  {
   "cell_type": "code",
   "execution_count": 10,
   "id": "c13f879e-b311-4e93-ae39-20b0fc619374",
   "metadata": {},
   "outputs": [
    {
     "name": "stderr",
     "output_type": "stream",
     "text": [
      "C:\\Users\\adhar\\AppData\\Local\\Temp\\ipykernel_18180\\1748737817.py:2: SettingWithCopyWarning: \n",
      "A value is trying to be set on a copy of a slice from a DataFrame.\n",
      "Try using .loc[row_indexer,col_indexer] = value instead\n",
      "\n",
      "See the caveats in the documentation: https://pandas.pydata.org/pandas-docs/stable/user_guide/indexing.html#returning-a-view-versus-a-copy\n",
      "  dfc[\"cast\"] =dfc[\"cast\"].str.split(\",\")\n"
     ]
    }
   ],
   "source": [
    "dfc = df[[\"title\",'cast']]\n",
    "dfc[\"cast\"] =dfc[\"cast\"].str.split(\",\")\n",
    "dfc = dfc.explode('cast').reset_index(drop=True)"
   ]
  },
  {
   "cell_type": "code",
   "execution_count": 11,
   "id": "a5951a5e-5d86-4b69-b69c-f4b20beda734",
   "metadata": {},
   "outputs": [
    {
     "data": {
      "text/html": [
       "<div>\n",
       "<style scoped>\n",
       "    .dataframe tbody tr th:only-of-type {\n",
       "        vertical-align: middle;\n",
       "    }\n",
       "\n",
       "    .dataframe tbody tr th {\n",
       "        vertical-align: top;\n",
       "    }\n",
       "\n",
       "    .dataframe thead th {\n",
       "        text-align: right;\n",
       "    }\n",
       "</style>\n",
       "<table border=\"1\" class=\"dataframe\">\n",
       "  <thead>\n",
       "    <tr style=\"text-align: right;\">\n",
       "      <th></th>\n",
       "      <th>title</th>\n",
       "      <th>cast</th>\n",
       "    </tr>\n",
       "  </thead>\n",
       "  <tbody>\n",
       "    <tr>\n",
       "      <th>0</th>\n",
       "      <td>Dick Johnson Is Dead</td>\n",
       "      <td>NaN</td>\n",
       "    </tr>\n",
       "    <tr>\n",
       "      <th>1</th>\n",
       "      <td>Blood &amp; Water</td>\n",
       "      <td>Ama Qamata</td>\n",
       "    </tr>\n",
       "    <tr>\n",
       "      <th>2</th>\n",
       "      <td>Blood &amp; Water</td>\n",
       "      <td>Khosi Ngema</td>\n",
       "    </tr>\n",
       "    <tr>\n",
       "      <th>3</th>\n",
       "      <td>Blood &amp; Water</td>\n",
       "      <td>Gail Mabalane</td>\n",
       "    </tr>\n",
       "    <tr>\n",
       "      <th>4</th>\n",
       "      <td>Blood &amp; Water</td>\n",
       "      <td>Thabang Molaba</td>\n",
       "    </tr>\n",
       "  </tbody>\n",
       "</table>\n",
       "</div>"
      ],
      "text/plain": [
       "                  title             cast\n",
       "0  Dick Johnson Is Dead              NaN\n",
       "1         Blood & Water       Ama Qamata\n",
       "2         Blood & Water      Khosi Ngema\n",
       "3         Blood & Water    Gail Mabalane\n",
       "4         Blood & Water   Thabang Molaba"
      ]
     },
     "execution_count": 11,
     "metadata": {},
     "output_type": "execute_result"
    }
   ],
   "source": [
    "dfc.head()"
   ]
  },
  {
   "cell_type": "code",
   "execution_count": 12,
   "id": "d9caedfd-9f12-42ec-b841-5573cd763db5",
   "metadata": {},
   "outputs": [
    {
     "name": "stderr",
     "output_type": "stream",
     "text": [
      "C:\\Users\\adhar\\AppData\\Local\\Temp\\ipykernel_18180\\2607028502.py:2: SettingWithCopyWarning: \n",
      "A value is trying to be set on a copy of a slice from a DataFrame.\n",
      "Try using .loc[row_indexer,col_indexer] = value instead\n",
      "\n",
      "See the caveats in the documentation: https://pandas.pydata.org/pandas-docs/stable/user_guide/indexing.html#returning-a-view-versus-a-copy\n",
      "  dfd[\"director\"] =dfd[\"director\"].str.split(\",\")\n"
     ]
    }
   ],
   "source": [
    "dfd = df[[\"title\",'director']]\n",
    "dfd[\"director\"] =dfd[\"director\"].str.split(\",\")\n",
    "dfd = dfd.explode('director').reset_index(drop=True)"
   ]
  },
  {
   "cell_type": "code",
   "execution_count": 13,
   "id": "6a47bfeb-ddbb-4e49-9b47-0158a2e1a402",
   "metadata": {},
   "outputs": [
    {
     "data": {
      "text/html": [
       "<div>\n",
       "<style scoped>\n",
       "    .dataframe tbody tr th:only-of-type {\n",
       "        vertical-align: middle;\n",
       "    }\n",
       "\n",
       "    .dataframe tbody tr th {\n",
       "        vertical-align: top;\n",
       "    }\n",
       "\n",
       "    .dataframe thead th {\n",
       "        text-align: right;\n",
       "    }\n",
       "</style>\n",
       "<table border=\"1\" class=\"dataframe\">\n",
       "  <thead>\n",
       "    <tr style=\"text-align: right;\">\n",
       "      <th></th>\n",
       "      <th>title</th>\n",
       "      <th>director</th>\n",
       "    </tr>\n",
       "  </thead>\n",
       "  <tbody>\n",
       "    <tr>\n",
       "      <th>0</th>\n",
       "      <td>Dick Johnson Is Dead</td>\n",
       "      <td>Kirsten Johnson</td>\n",
       "    </tr>\n",
       "    <tr>\n",
       "      <th>1</th>\n",
       "      <td>Blood &amp; Water</td>\n",
       "      <td>NaN</td>\n",
       "    </tr>\n",
       "    <tr>\n",
       "      <th>2</th>\n",
       "      <td>Ganglands</td>\n",
       "      <td>Julien Leclercq</td>\n",
       "    </tr>\n",
       "    <tr>\n",
       "      <th>3</th>\n",
       "      <td>Jailbirds New Orleans</td>\n",
       "      <td>NaN</td>\n",
       "    </tr>\n",
       "    <tr>\n",
       "      <th>4</th>\n",
       "      <td>Kota Factory</td>\n",
       "      <td>NaN</td>\n",
       "    </tr>\n",
       "  </tbody>\n",
       "</table>\n",
       "</div>"
      ],
      "text/plain": [
       "                   title         director\n",
       "0   Dick Johnson Is Dead  Kirsten Johnson\n",
       "1          Blood & Water              NaN\n",
       "2              Ganglands  Julien Leclercq\n",
       "3  Jailbirds New Orleans              NaN\n",
       "4           Kota Factory              NaN"
      ]
     },
     "execution_count": 13,
     "metadata": {},
     "output_type": "execute_result"
    }
   ],
   "source": [
    "dfd.head()"
   ]
  },
  {
   "cell_type": "code",
   "execution_count": 14,
   "id": "6f7e2b4d-76a6-43d2-b085-d2f424932bed",
   "metadata": {},
   "outputs": [
    {
     "name": "stderr",
     "output_type": "stream",
     "text": [
      "C:\\Users\\adhar\\AppData\\Local\\Temp\\ipykernel_18180\\4224137055.py:2: SettingWithCopyWarning: \n",
      "A value is trying to be set on a copy of a slice from a DataFrame.\n",
      "Try using .loc[row_indexer,col_indexer] = value instead\n",
      "\n",
      "See the caveats in the documentation: https://pandas.pydata.org/pandas-docs/stable/user_guide/indexing.html#returning-a-view-versus-a-copy\n",
      "  dfcountry[\"country\"] =dfcountry[\"country\"].str.split(\",\")\n"
     ]
    },
    {
     "data": {
      "text/html": [
       "<div>\n",
       "<style scoped>\n",
       "    .dataframe tbody tr th:only-of-type {\n",
       "        vertical-align: middle;\n",
       "    }\n",
       "\n",
       "    .dataframe tbody tr th {\n",
       "        vertical-align: top;\n",
       "    }\n",
       "\n",
       "    .dataframe thead th {\n",
       "        text-align: right;\n",
       "    }\n",
       "</style>\n",
       "<table border=\"1\" class=\"dataframe\">\n",
       "  <thead>\n",
       "    <tr style=\"text-align: right;\">\n",
       "      <th></th>\n",
       "      <th>title</th>\n",
       "      <th>country</th>\n",
       "    </tr>\n",
       "  </thead>\n",
       "  <tbody>\n",
       "    <tr>\n",
       "      <th>0</th>\n",
       "      <td>Dick Johnson Is Dead</td>\n",
       "      <td>United States</td>\n",
       "    </tr>\n",
       "    <tr>\n",
       "      <th>1</th>\n",
       "      <td>Blood &amp; Water</td>\n",
       "      <td>South Africa</td>\n",
       "    </tr>\n",
       "    <tr>\n",
       "      <th>2</th>\n",
       "      <td>Ganglands</td>\n",
       "      <td>NaN</td>\n",
       "    </tr>\n",
       "    <tr>\n",
       "      <th>3</th>\n",
       "      <td>Jailbirds New Orleans</td>\n",
       "      <td>NaN</td>\n",
       "    </tr>\n",
       "    <tr>\n",
       "      <th>4</th>\n",
       "      <td>Kota Factory</td>\n",
       "      <td>India</td>\n",
       "    </tr>\n",
       "  </tbody>\n",
       "</table>\n",
       "</div>"
      ],
      "text/plain": [
       "                   title        country\n",
       "0   Dick Johnson Is Dead  United States\n",
       "1          Blood & Water   South Africa\n",
       "2              Ganglands            NaN\n",
       "3  Jailbirds New Orleans            NaN\n",
       "4           Kota Factory          India"
      ]
     },
     "execution_count": 14,
     "metadata": {},
     "output_type": "execute_result"
    }
   ],
   "source": [
    "dfcountry = df[[\"title\",'country']]\n",
    "dfcountry[\"country\"] =dfcountry[\"country\"].str.split(\",\")\n",
    "dfcountry = dfcountry.explode('country').reset_index(drop=True)\n",
    "dfcountry.head()"
   ]
  },
  {
   "cell_type": "code",
   "execution_count": 15,
   "id": "f98df300-31be-49e3-bfdd-1ab4b2b03a15",
   "metadata": {},
   "outputs": [
    {
     "name": "stderr",
     "output_type": "stream",
     "text": [
      "C:\\Users\\adhar\\AppData\\Local\\Temp\\ipykernel_18180\\2430494266.py:2: SettingWithCopyWarning: \n",
      "A value is trying to be set on a copy of a slice from a DataFrame.\n",
      "Try using .loc[row_indexer,col_indexer] = value instead\n",
      "\n",
      "See the caveats in the documentation: https://pandas.pydata.org/pandas-docs/stable/user_guide/indexing.html#returning-a-view-versus-a-copy\n",
      "  dfg[\"listed_in\"] =dfg[\"listed_in\"].str.split(\",\")\n"
     ]
    },
    {
     "data": {
      "text/html": [
       "<div>\n",
       "<style scoped>\n",
       "    .dataframe tbody tr th:only-of-type {\n",
       "        vertical-align: middle;\n",
       "    }\n",
       "\n",
       "    .dataframe tbody tr th {\n",
       "        vertical-align: top;\n",
       "    }\n",
       "\n",
       "    .dataframe thead th {\n",
       "        text-align: right;\n",
       "    }\n",
       "</style>\n",
       "<table border=\"1\" class=\"dataframe\">\n",
       "  <thead>\n",
       "    <tr style=\"text-align: right;\">\n",
       "      <th></th>\n",
       "      <th>title</th>\n",
       "      <th>listed_in</th>\n",
       "    </tr>\n",
       "  </thead>\n",
       "  <tbody>\n",
       "    <tr>\n",
       "      <th>0</th>\n",
       "      <td>Dick Johnson Is Dead</td>\n",
       "      <td>Documentaries</td>\n",
       "    </tr>\n",
       "    <tr>\n",
       "      <th>1</th>\n",
       "      <td>Blood &amp; Water</td>\n",
       "      <td>International TV Shows</td>\n",
       "    </tr>\n",
       "    <tr>\n",
       "      <th>2</th>\n",
       "      <td>Blood &amp; Water</td>\n",
       "      <td>TV Dramas</td>\n",
       "    </tr>\n",
       "    <tr>\n",
       "      <th>3</th>\n",
       "      <td>Blood &amp; Water</td>\n",
       "      <td>TV Mysteries</td>\n",
       "    </tr>\n",
       "    <tr>\n",
       "      <th>4</th>\n",
       "      <td>Ganglands</td>\n",
       "      <td>Crime TV Shows</td>\n",
       "    </tr>\n",
       "  </tbody>\n",
       "</table>\n",
       "</div>"
      ],
      "text/plain": [
       "                  title               listed_in\n",
       "0  Dick Johnson Is Dead           Documentaries\n",
       "1         Blood & Water  International TV Shows\n",
       "2         Blood & Water               TV Dramas\n",
       "3         Blood & Water            TV Mysteries\n",
       "4             Ganglands          Crime TV Shows"
      ]
     },
     "execution_count": 15,
     "metadata": {},
     "output_type": "execute_result"
    }
   ],
   "source": [
    "dfg = df[[\"title\",'listed_in']]\n",
    "dfg[\"listed_in\"] =dfg[\"listed_in\"].str.split(\",\")\n",
    "dfg = dfg.explode('listed_in').reset_index(drop=True)\n",
    "dfg.head()"
   ]
  },
  {
   "cell_type": "markdown",
   "id": "f252e4b4-da19-4bb1-94a5-ca121a12f55c",
   "metadata": {},
   "source": [
    "##### Merging all Un-nested columns into single DataFrame"
   ]
  },
  {
   "cell_type": "code",
   "execution_count": 16,
   "id": "f13ffa8a-96c3-4bd5-ac39-10830fe9728e",
   "metadata": {},
   "outputs": [],
   "source": [
    "Unnest_df = dfc.merge(dfd,on=\"title\",how=\"left\")"
   ]
  },
  {
   "cell_type": "code",
   "execution_count": 17,
   "id": "0672d59e-ede4-4821-a128-3ff6912ea5d8",
   "metadata": {},
   "outputs": [],
   "source": [
    "Unnest_df = Unnest_df.merge(dfcountry,on=\"title\",how=\"left\")"
   ]
  },
  {
   "cell_type": "code",
   "execution_count": 18,
   "id": "a45fe1fc-d403-4718-b855-889043d12415",
   "metadata": {},
   "outputs": [
    {
     "data": {
      "text/html": [
       "<div>\n",
       "<style scoped>\n",
       "    .dataframe tbody tr th:only-of-type {\n",
       "        vertical-align: middle;\n",
       "    }\n",
       "\n",
       "    .dataframe tbody tr th {\n",
       "        vertical-align: top;\n",
       "    }\n",
       "\n",
       "    .dataframe thead th {\n",
       "        text-align: right;\n",
       "    }\n",
       "</style>\n",
       "<table border=\"1\" class=\"dataframe\">\n",
       "  <thead>\n",
       "    <tr style=\"text-align: right;\">\n",
       "      <th></th>\n",
       "      <th>title</th>\n",
       "      <th>cast</th>\n",
       "      <th>director</th>\n",
       "      <th>country</th>\n",
       "      <th>listed_in</th>\n",
       "    </tr>\n",
       "  </thead>\n",
       "  <tbody>\n",
       "    <tr>\n",
       "      <th>202060</th>\n",
       "      <td>Zubaan</td>\n",
       "      <td>Anita Shabdish</td>\n",
       "      <td>Mozez Singh</td>\n",
       "      <td>India</td>\n",
       "      <td>International Movies</td>\n",
       "    </tr>\n",
       "    <tr>\n",
       "      <th>202061</th>\n",
       "      <td>Zubaan</td>\n",
       "      <td>Anita Shabdish</td>\n",
       "      <td>Mozez Singh</td>\n",
       "      <td>India</td>\n",
       "      <td>Music &amp; Musicals</td>\n",
       "    </tr>\n",
       "    <tr>\n",
       "      <th>202062</th>\n",
       "      <td>Zubaan</td>\n",
       "      <td>Chittaranjan Tripathy</td>\n",
       "      <td>Mozez Singh</td>\n",
       "      <td>India</td>\n",
       "      <td>Dramas</td>\n",
       "    </tr>\n",
       "    <tr>\n",
       "      <th>202063</th>\n",
       "      <td>Zubaan</td>\n",
       "      <td>Chittaranjan Tripathy</td>\n",
       "      <td>Mozez Singh</td>\n",
       "      <td>India</td>\n",
       "      <td>International Movies</td>\n",
       "    </tr>\n",
       "    <tr>\n",
       "      <th>202064</th>\n",
       "      <td>Zubaan</td>\n",
       "      <td>Chittaranjan Tripathy</td>\n",
       "      <td>Mozez Singh</td>\n",
       "      <td>India</td>\n",
       "      <td>Music &amp; Musicals</td>\n",
       "    </tr>\n",
       "  </tbody>\n",
       "</table>\n",
       "</div>"
      ],
      "text/plain": [
       "         title                    cast     director country  \\\n",
       "202060  Zubaan          Anita Shabdish  Mozez Singh   India   \n",
       "202061  Zubaan          Anita Shabdish  Mozez Singh   India   \n",
       "202062  Zubaan   Chittaranjan Tripathy  Mozez Singh   India   \n",
       "202063  Zubaan   Chittaranjan Tripathy  Mozez Singh   India   \n",
       "202064  Zubaan   Chittaranjan Tripathy  Mozez Singh   India   \n",
       "\n",
       "                    listed_in  \n",
       "202060   International Movies  \n",
       "202061       Music & Musicals  \n",
       "202062                 Dramas  \n",
       "202063   International Movies  \n",
       "202064       Music & Musicals  "
      ]
     },
     "execution_count": 18,
     "metadata": {},
     "output_type": "execute_result"
    }
   ],
   "source": [
    "Unnest_df = Unnest_df.merge(dfg,on=\"title\",how=\"left\")\n",
    "Unnest_df.tail()"
   ]
  },
  {
   "cell_type": "code",
   "execution_count": 19,
   "id": "c8aaafdf-162b-4ade-bd9c-d4087c124a7a",
   "metadata": {},
   "outputs": [],
   "source": [
    "final_df = df.merge(Unnest_df,on=\"title\",how=\"left\")\n",
    "final_df.drop(columns = [\"director_x\",\"cast_x\",\"country_x\",\"listed_in_x\"],inplace = True) # Dropped Nested Columns\n",
    "final_df.rename(columns = {\"director_y\":\"director\",\"cast_y\":\"cast\",\"country_y\":\"country\",\"listed_in_y\":\"listed_in\"},inplace=True)"
   ]
  },
  {
   "cell_type": "code",
   "execution_count": 20,
   "id": "fce695f1-bc05-4403-bf0d-5b471cb1149e",
   "metadata": {},
   "outputs": [
    {
     "data": {
      "text/html": [
       "<div>\n",
       "<style scoped>\n",
       "    .dataframe tbody tr th:only-of-type {\n",
       "        vertical-align: middle;\n",
       "    }\n",
       "\n",
       "    .dataframe tbody tr th {\n",
       "        vertical-align: top;\n",
       "    }\n",
       "\n",
       "    .dataframe thead th {\n",
       "        text-align: right;\n",
       "    }\n",
       "</style>\n",
       "<table border=\"1\" class=\"dataframe\">\n",
       "  <thead>\n",
       "    <tr style=\"text-align: right;\">\n",
       "      <th></th>\n",
       "      <th>show_id</th>\n",
       "      <th>type</th>\n",
       "      <th>title</th>\n",
       "      <th>date_added</th>\n",
       "      <th>release_year</th>\n",
       "      <th>rating</th>\n",
       "      <th>duration</th>\n",
       "      <th>description</th>\n",
       "      <th>cast</th>\n",
       "      <th>director</th>\n",
       "      <th>country</th>\n",
       "      <th>listed_in</th>\n",
       "    </tr>\n",
       "  </thead>\n",
       "  <tbody>\n",
       "    <tr>\n",
       "      <th>0</th>\n",
       "      <td>s1</td>\n",
       "      <td>Movie</td>\n",
       "      <td>Dick Johnson Is Dead</td>\n",
       "      <td>September 25, 2021</td>\n",
       "      <td>2020</td>\n",
       "      <td>PG-13</td>\n",
       "      <td>90 min</td>\n",
       "      <td>As her father nears the end of his life, filmm...</td>\n",
       "      <td>NaN</td>\n",
       "      <td>Kirsten Johnson</td>\n",
       "      <td>United States</td>\n",
       "      <td>Documentaries</td>\n",
       "    </tr>\n",
       "    <tr>\n",
       "      <th>1</th>\n",
       "      <td>s2</td>\n",
       "      <td>TV Show</td>\n",
       "      <td>Blood &amp; Water</td>\n",
       "      <td>September 24, 2021</td>\n",
       "      <td>2021</td>\n",
       "      <td>TV-MA</td>\n",
       "      <td>2 Seasons</td>\n",
       "      <td>After crossing paths at a party, a Cape Town t...</td>\n",
       "      <td>Ama Qamata</td>\n",
       "      <td>NaN</td>\n",
       "      <td>South Africa</td>\n",
       "      <td>International TV Shows</td>\n",
       "    </tr>\n",
       "    <tr>\n",
       "      <th>2</th>\n",
       "      <td>s2</td>\n",
       "      <td>TV Show</td>\n",
       "      <td>Blood &amp; Water</td>\n",
       "      <td>September 24, 2021</td>\n",
       "      <td>2021</td>\n",
       "      <td>TV-MA</td>\n",
       "      <td>2 Seasons</td>\n",
       "      <td>After crossing paths at a party, a Cape Town t...</td>\n",
       "      <td>Ama Qamata</td>\n",
       "      <td>NaN</td>\n",
       "      <td>South Africa</td>\n",
       "      <td>TV Dramas</td>\n",
       "    </tr>\n",
       "    <tr>\n",
       "      <th>3</th>\n",
       "      <td>s2</td>\n",
       "      <td>TV Show</td>\n",
       "      <td>Blood &amp; Water</td>\n",
       "      <td>September 24, 2021</td>\n",
       "      <td>2021</td>\n",
       "      <td>TV-MA</td>\n",
       "      <td>2 Seasons</td>\n",
       "      <td>After crossing paths at a party, a Cape Town t...</td>\n",
       "      <td>Ama Qamata</td>\n",
       "      <td>NaN</td>\n",
       "      <td>South Africa</td>\n",
       "      <td>TV Mysteries</td>\n",
       "    </tr>\n",
       "    <tr>\n",
       "      <th>4</th>\n",
       "      <td>s2</td>\n",
       "      <td>TV Show</td>\n",
       "      <td>Blood &amp; Water</td>\n",
       "      <td>September 24, 2021</td>\n",
       "      <td>2021</td>\n",
       "      <td>TV-MA</td>\n",
       "      <td>2 Seasons</td>\n",
       "      <td>After crossing paths at a party, a Cape Town t...</td>\n",
       "      <td>Khosi Ngema</td>\n",
       "      <td>NaN</td>\n",
       "      <td>South Africa</td>\n",
       "      <td>International TV Shows</td>\n",
       "    </tr>\n",
       "  </tbody>\n",
       "</table>\n",
       "</div>"
      ],
      "text/plain": [
       "  show_id     type                 title          date_added  release_year  \\\n",
       "0      s1    Movie  Dick Johnson Is Dead  September 25, 2021          2020   \n",
       "1      s2  TV Show         Blood & Water  September 24, 2021          2021   \n",
       "2      s2  TV Show         Blood & Water  September 24, 2021          2021   \n",
       "3      s2  TV Show         Blood & Water  September 24, 2021          2021   \n",
       "4      s2  TV Show         Blood & Water  September 24, 2021          2021   \n",
       "\n",
       "  rating   duration                                        description  \\\n",
       "0  PG-13     90 min  As her father nears the end of his life, filmm...   \n",
       "1  TV-MA  2 Seasons  After crossing paths at a party, a Cape Town t...   \n",
       "2  TV-MA  2 Seasons  After crossing paths at a party, a Cape Town t...   \n",
       "3  TV-MA  2 Seasons  After crossing paths at a party, a Cape Town t...   \n",
       "4  TV-MA  2 Seasons  After crossing paths at a party, a Cape Town t...   \n",
       "\n",
       "           cast         director        country               listed_in  \n",
       "0           NaN  Kirsten Johnson  United States           Documentaries  \n",
       "1    Ama Qamata              NaN   South Africa  International TV Shows  \n",
       "2    Ama Qamata              NaN   South Africa               TV Dramas  \n",
       "3    Ama Qamata              NaN   South Africa            TV Mysteries  \n",
       "4   Khosi Ngema              NaN   South Africa  International TV Shows  "
      ]
     },
     "execution_count": 20,
     "metadata": {},
     "output_type": "execute_result"
    }
   ],
   "source": [
    "final_df.head()"
   ]
  },
  {
   "cell_type": "markdown",
   "id": "09194c8a-c939-4caf-a294-152441c8307c",
   "metadata": {},
   "source": [
    "##### Removing all duplicate Columns"
   ]
  },
  {
   "cell_type": "code",
   "execution_count": 21,
   "id": "37c62bf3-5c54-429c-8aeb-e231df09f17b",
   "metadata": {},
   "outputs": [],
   "source": [
    "final_df.drop_duplicates(keep = \"first\",inplace=True)"
   ]
  },
  {
   "cell_type": "code",
   "execution_count": 22,
   "id": "e12b16e6-6fb2-4926-9b3c-f9879bc2ebf8",
   "metadata": {},
   "outputs": [],
   "source": [
    "final_df[\"date_added\"] = final_df[\"date_added\"].str.strip() #Removing Extra Space in date column"
   ]
  },
  {
   "cell_type": "code",
   "execution_count": 23,
   "id": "96b0e849-b1ae-44a3-9a47-42f7f475c7e3",
   "metadata": {},
   "outputs": [],
   "source": [
    "final_df[\"date_added\"]=pd.to_datetime(final_df[\"date_added\"],format=\"%B %d, %Y\",errors='coerce') # Converted into DATETIME Foramt/"
   ]
  },
  {
   "cell_type": "code",
   "execution_count": 24,
   "id": "02d202bb-8dd3-4ef7-bb76-a412a5191f43",
   "metadata": {},
   "outputs": [
    {
     "data": {
      "text/plain": [
       "(202058, 12)"
      ]
     },
     "execution_count": 24,
     "metadata": {},
     "output_type": "execute_result"
    }
   ],
   "source": [
    "final_df.shape"
   ]
  },
  {
   "cell_type": "code",
   "execution_count": 25,
   "id": "37078a59-da3c-48b5-be86-70bf7c55b9e2",
   "metadata": {},
   "outputs": [
    {
     "name": "stdout",
     "output_type": "stream",
     "text": [
      "<class 'pandas.core.frame.DataFrame'>\n",
      "Index: 202058 entries, 0 to 202064\n",
      "Data columns (total 12 columns):\n",
      " #   Column        Non-Null Count   Dtype         \n",
      "---  ------        --------------   -----         \n",
      " 0   show_id       202058 non-null  object        \n",
      " 1   type          202058 non-null  object        \n",
      " 2   title         202058 non-null  object        \n",
      " 3   date_added    201900 non-null  datetime64[ns]\n",
      " 4   release_year  202058 non-null  int64         \n",
      " 5   rating        201991 non-null  object        \n",
      " 6   duration      202055 non-null  object        \n",
      " 7   description   202058 non-null  object        \n",
      " 8   cast          199909 non-null  object        \n",
      " 9   director      151415 non-null  object        \n",
      " 10  country       190161 non-null  object        \n",
      " 11  listed_in     202058 non-null  object        \n",
      "dtypes: datetime64[ns](1), int64(1), object(10)\n",
      "memory usage: 20.0+ MB\n"
     ]
    }
   ],
   "source": [
    "final_df.info()"
   ]
  },
  {
   "cell_type": "markdown",
   "id": "aa7975a8-7ef7-4af4-b29d-e79bedf585a0",
   "metadata": {},
   "source": [
    "##### After Un-nest the total rows got increased from 8807 to 202065."
   ]
  },
  {
   "cell_type": "markdown",
   "id": "09780ebc-5ccb-49b0-aa62-c6483fb02b86",
   "metadata": {},
   "source": [
    "### Handling Null values"
   ]
  },
  {
   "cell_type": "code",
   "execution_count": 26,
   "id": "17f97269-a6fe-428d-8e78-8e204f86bba8",
   "metadata": {},
   "outputs": [
    {
     "data": {
      "text/plain": [
       "show_id             0\n",
       "type                0\n",
       "title               0\n",
       "date_added        158\n",
       "release_year        0\n",
       "rating             67\n",
       "duration            3\n",
       "description         0\n",
       "cast             2149\n",
       "director        50643\n",
       "country         11897\n",
       "listed_in           0\n",
       "dtype: int64"
      ]
     },
     "execution_count": 26,
     "metadata": {},
     "output_type": "execute_result"
    }
   ],
   "source": [
    "final_df.isna().sum()"
   ]
  },
  {
   "cell_type": "code",
   "execution_count": 27,
   "id": "389ededd-37a0-47aa-9de7-e4695e0dcf3e",
   "metadata": {},
   "outputs": [
    {
     "data": {
      "text/plain": [
       "show_id            0\n",
       "type               0\n",
       "title              0\n",
       "director        2634\n",
       "cast             825\n",
       "country          831\n",
       "date_added        10\n",
       "release_year       0\n",
       "rating             4\n",
       "duration           3\n",
       "listed_in          0\n",
       "description        0\n",
       "dtype: int64"
      ]
     },
     "execution_count": 27,
     "metadata": {},
     "output_type": "execute_result"
    }
   ],
   "source": [
    "df.isna().sum()"
   ]
  },
  {
   "cell_type": "code",
   "execution_count": 28,
   "id": "3c64e977-8b9e-4625-8aea-11ff30548392",
   "metadata": {},
   "outputs": [],
   "source": [
    "final_df[\"director\"].fillna(\"Unknown director\",inplace=True) #Director Column Null values filled with Unknown Director\n",
    "final_df[\"cast\"].fillna(\"Unknown Actor\",inplace=True)        #Cast Column Null values filled with Unknown Cast\n",
    "final_df[\"country\"].fillna(\"Unknown country\",inplace=True)   #Country Column Null values filled with Unknown Country\n",
    "final_df[\"rating\"].fillna(\"Unknown rating\",inplace=True)     #Rating Column Null values filled with Unknown Rating\n",
    "final_df[\"duration\"].fillna(final_df[\"rating\"],inplace=True) #Duration Column Null values filled with rating Column Values\n",
    "#final_df[\"date_added\"].fillna(final_df[\"release_year\"],inplace=True)"
   ]
  },
  {
   "cell_type": "code",
   "execution_count": 29,
   "id": "656238be-4331-42e3-b37b-a559a2fe6be4",
   "metadata": {},
   "outputs": [],
   "source": [
    "final_df[\"new_duration\"]=final_df[\"duration\"].str.split(\" \").str[0] # Getting only numaric value in Columns by splitting the data\n",
    "final_df.drop(columns = [\"duration\"],inplace = True) # Dropped duration Columns"
   ]
  },
  {
   "cell_type": "code",
   "execution_count": 30,
   "id": "c843ef7b-aaa1-403e-8fc6-97db5bc722c0",
   "metadata": {},
   "outputs": [
    {
     "data": {
      "text/plain": [
       "array(['PG-13', 'TV-MA', 'PG', 'TV-14', 'TV-PG', 'TV-Y', 'TV-Y7', 'R',\n",
       "       'TV-G', 'G', 'NC-17', '74 min', '84 min', '66 min', 'NR',\n",
       "       'Unknown rating', 'TV-Y7-FV', 'UR'], dtype=object)"
      ]
     },
     "execution_count": 30,
     "metadata": {},
     "output_type": "execute_result"
    }
   ],
   "source": [
    "final_df[\"rating\"].unique()"
   ]
  },
  {
   "cell_type": "code",
   "execution_count": 31,
   "id": "48448bdc-3f76-4e9e-9350-16222351599f",
   "metadata": {},
   "outputs": [
    {
     "data": {
      "text/plain": [
       "rating\n",
       "TV-MA             73915\n",
       "TV-14             43951\n",
       "R                 25859\n",
       "PG-13             16246\n",
       "TV-PG             14926\n",
       "PG                10919\n",
       "TV-Y7              6304\n",
       "TV-Y               3665\n",
       "TV-G               2779\n",
       "NR                 1573\n",
       "G                  1530\n",
       "NC-17               149\n",
       "TV-Y7-FV             86\n",
       "UR                   86\n",
       "Unknown rating       67\n",
       "74 min                1\n",
       "84 min                1\n",
       "66 min                1\n",
       "Name: count, dtype: int64"
      ]
     },
     "execution_count": 31,
     "metadata": {},
     "output_type": "execute_result"
    }
   ],
   "source": [
    "final_df[\"rating\"].value_counts()"
   ]
  },
  {
   "cell_type": "code",
   "execution_count": 32,
   "id": "e8784f36-a4d2-4e55-b7c0-dcb43c15d792",
   "metadata": {},
   "outputs": [
    {
     "data": {
      "text/plain": [
       "rating\n",
       "TV-MA             73915\n",
       "TV-14             43951\n",
       "R                 25859\n",
       "PG-13             16246\n",
       "TV-PG             14926\n",
       "PG                10919\n",
       "TV-Y7              6304\n",
       "TV-Y               3665\n",
       "TV-G               2779\n",
       "NR                 1573\n",
       "G                  1530\n",
       "NC-17               149\n",
       "TV-Y7-FV             86\n",
       "UR                   86\n",
       "Unknown rating       70\n",
       "Name: count, dtype: int64"
      ]
     },
     "execution_count": 32,
     "metadata": {},
     "output_type": "execute_result"
    }
   ],
   "source": [
    "#Replaced Unrelated values into unknown Rating.\n",
    "replace_dict = {\"74 min\":'Unknown rating', '84 min':'Unknown rating', '66 min':'Unknown rating'} \n",
    "final_df['rating'] = final_df['rating'].replace(replace_dict)\n",
    "final_df[\"rating\"].value_counts()"
   ]
  },
  {
   "cell_type": "markdown",
   "id": "2cacce4b-b7ce-4581-9fea-c081f8aa5d33",
   "metadata": {},
   "source": [
    "All the null values are filled and\n",
    "I filled the null values in the Duration column with the values from the Rating column and \n",
    "replaced the Rating column with 'Unknown Rating' because some Duration values were present in the Rating column"
   ]
  },
  {
   "cell_type": "markdown",
   "id": "d0796df0-cfb0-4690-b35a-e27b6a232ae2",
   "metadata": {},
   "source": [
    "#### Find the counts of each categorical variable both using graphical and non-graphical analysis."
   ]
  },
  {
   "cell_type": "markdown",
   "id": "04e3aa41-9494-4350-a1fb-f07d2da36443",
   "metadata": {},
   "source": [
    "###### Total count of movies and Tv Shows"
   ]
  },
  {
   "cell_type": "code",
   "execution_count": 33,
   "id": "d1115981-601c-4303-84d5-d7f2b1e393e4",
   "metadata": {},
   "outputs": [],
   "source": [
    "show_type = final_df[[\"type\",\"title\"]].drop_duplicates(subset=[\"title\",\"type\"],keep = \"first\")"
   ]
  },
  {
   "cell_type": "code",
   "execution_count": 34,
   "id": "d1912d51-1f39-4c84-9f27-ec476b751a67",
   "metadata": {},
   "outputs": [
    {
     "data": {
      "text/plain": [
       "type\n",
       "Movie      6131\n",
       "TV Show    2676\n",
       "Name: count, dtype: int64"
      ]
     },
     "execution_count": 34,
     "metadata": {},
     "output_type": "execute_result"
    }
   ],
   "source": [
    "show_type[\"type\"].value_counts()"
   ]
  },
  {
   "cell_type": "code",
   "execution_count": 35,
   "id": "29749886-d2e8-410e-bd13-509bd66c0abd",
   "metadata": {},
   "outputs": [
    {
     "data": {
      "image/png": "[encoded data removed]",
      "text/plain": [
       "<Figure size 400x400 with 1 Axes>"
      ]
     },
     "metadata": {},
     "output_type": "display_data"
    }
   ],
   "source": [
    "show_types = show_type[\"type\"].value_counts().reset_index()\n",
    "show_types.columns = ['type', 'count']\n",
    "show_types = show_types.sort_values(by='count', ascending=False)\n",
    "plt.figure(figsize=(4, 4))\n",
    "plt.pie(show_types['count'], labels=show_types['type'], autopct='%1.1f%%', startangle=140)\n",
    "plt.title('Total percentage of Movie and TV Shows')\n",
    "plt.show()"
   ]
  },
  {
   "cell_type": "markdown",
   "id": "dd2152da-23d0-498f-a754-36380843687e",
   "metadata": {},
   "source": [
    "Total movies are 6131 and TV Show 2676"
   ]
  },
  {
   "cell_type": "markdown",
   "id": "17e5fcb7-3ef5-4a0c-83d4-77c203253aa2",
   "metadata": {},
   "source": [
    "##### Rating column Counts"
   ]
  },
  {
   "cell_type": "code",
   "execution_count": 36,
   "id": "bb7b98a5-1c05-4419-b07c-ceb4399e4b7a",
   "metadata": {},
   "outputs": [],
   "source": [
    "rating_count = final_df[[\"title\",\"rating\"]].drop_duplicates(subset=[\"title\",\"rating\"],keep=\"first\")"
   ]
  },
  {
   "cell_type": "code",
   "execution_count": 37,
   "id": "2b337d65-0573-47dc-adde-0ed0fc12bbf7",
   "metadata": {},
   "outputs": [
    {
     "data": {
      "text/plain": [
       "rating\n",
       "TV-MA             3207\n",
       "TV-14             2160\n",
       "TV-PG              863\n",
       "R                  799\n",
       "PG-13              490\n",
       "TV-Y7              334\n",
       "TV-Y               307\n",
       "PG                 287\n",
       "TV-G               220\n",
       "NR                  80\n",
       "G                   41\n",
       "Unknown rating       7\n",
       "TV-Y7-FV             6\n",
       "NC-17                3\n",
       "UR                   3\n",
       "Name: count, dtype: int64"
      ]
     },
     "execution_count": 37,
     "metadata": {},
     "output_type": "execute_result"
    }
   ],
   "source": [
    "rating_count[\"rating\"].value_counts()"
   ]
  },
  {
   "cell_type": "code",
   "execution_count": 38,
   "id": "6da95789-4d5e-4079-99f7-b6ec8ebdee51",
   "metadata": {},
   "outputs": [
    {
     "data": {
      "image/png": "[encoded data removed]",
      "text/plain": [
       "<Figure size 1000x300 with 1 Axes>"
      ]
     },
     "metadata": {},
     "output_type": "display_data"
    }
   ],
   "source": [
    "rating_counts = rating_count['rating'].value_counts().reset_index()\n",
    "rating_counts.columns = ['rating', 'count']\n",
    "rating_counts = rating_counts.sort_values(by='count', ascending=False)\n",
    "plt.figure(figsize=(10, 3))\n",
    "sns.barplot(x='rating', y='count', data=rating_counts)\n",
    "plt.xticks(rotation=90, fontsize=10)\n",
    "plt.title('Count Plot for Rating')\n",
    "plt.show()"
   ]
  },
  {
   "cell_type": "markdown",
   "id": "2a9d72a8-f499-45f1-b978-cb6fadc71efc",
   "metadata": {},
   "source": [
    "##### Most of the Movies and Tv Shows falling in TV-MA Category and UR Category is having least."
   ]
  },
  {
   "cell_type": "markdown",
   "id": "7739fc4c-e280-4a8f-938f-8ae36ebf539f",
   "metadata": {},
   "source": [
    "##### Country Count Distrubution"
   ]
  },
  {
   "cell_type": "code",
   "execution_count": 39,
   "id": "12c14cc1-3d93-4dec-950d-dcef9c7c6490",
   "metadata": {},
   "outputs": [],
   "source": [
    "Country_count = final_df[[\"country\",\"title\"]].drop_duplicates(subset=[\"country\",\"title\"],keep = \"first\")"
   ]
  },
  {
   "cell_type": "code",
   "execution_count": 40,
   "id": "a9edce5c-21de-4210-80b5-6b2dc55fe5c0",
   "metadata": {},
   "outputs": [
    {
     "data": {
      "text/plain": [
       "country\n",
       "United States      3211\n",
       "India              1008\n",
       "Unknown country     831\n",
       "United Kingdom      628\n",
       " United States      479\n",
       "Canada              271\n",
       "Japan               259\n",
       "France              212\n",
       "South Korea         211\n",
       " France             181\n",
       "Name: count, dtype: int64"
      ]
     },
     "execution_count": 40,
     "metadata": {},
     "output_type": "execute_result"
    }
   ],
   "source": [
    "Country_count[\"country\"].value_counts().head(10)"
   ]
  },
  {
   "cell_type": "code",
   "execution_count": 41,
   "id": "5c8a7d43-5f8e-4cdc-b8d0-be1a90f032c0",
   "metadata": {},
   "outputs": [
    {
     "data": {
      "image/png": "[encoded data removed]",
      "text/plain": [
       "<Figure size 1000x300 with 1 Axes>"
      ]
     },
     "metadata": {},
     "output_type": "display_data"
    }
   ],
   "source": [
    "Country_counts = Country_count['country'].value_counts().reset_index().head(10)\n",
    "Country_counts.columns = ['Country', 'count']\n",
    "Country_counts = Country_counts.sort_values(by='count', ascending=False)\n",
    "plt.figure(figsize=(10, 3))\n",
    "sns.barplot(x='Country', y='count', data=Country_counts)\n",
    "plt.xticks(rotation=90, fontsize=10)\n",
    "plt.title('Tv shows & Movies Screening Countries Count')\n",
    "plt.show()"
   ]
  },
  {
   "cell_type": "markdown",
   "id": "bb0b081b-5ffa-4327-91e2-3fb74c178b9a",
   "metadata": {},
   "source": [
    "Top 10 contries of movies & TV shows distrubution, Unknown Coutry is having 3rd place in this"
   ]
  },
  {
   "cell_type": "code",
   "execution_count": 42,
   "id": "1c0d4c16-95db-4234-b0d5-b027e33aa0ef",
   "metadata": {},
   "outputs": [
    {
     "data": {
      "text/plain": [
       "release_year\n",
       "2018    1147\n",
       "2017    1032\n",
       "2019    1030\n",
       "2020     953\n",
       "2016     902\n",
       "2021     592\n",
       "2015     560\n",
       "2014     352\n",
       "2013     288\n",
       "2012     237\n",
       "Name: count, dtype: int64"
      ]
     },
     "execution_count": 42,
     "metadata": {},
     "output_type": "execute_result"
    }
   ],
   "source": [
    "release_year_count = final_df[[\"release_year\",\"title\"]].drop_duplicates(subset=[\"release_year\",\"title\"],keep = \"first\")\n",
    "release_year_count[\"release_year\"].value_counts().head(10)"
   ]
  },
  {
   "cell_type": "code",
   "execution_count": 43,
   "id": "e1396786-fadc-4f43-b298-a6906c06b9ee",
   "metadata": {},
   "outputs": [
    {
     "name": "stderr",
     "output_type": "stream",
     "text": [
      "C:\\Users\\adhar\\anaconda3\\Lib\\site-packages\\seaborn\\_oldcore.py:1119: FutureWarning: use_inf_as_na option is deprecated and will be removed in a future version. Convert inf values to NaN before operating instead.\n",
      "  with pd.option_context('mode.use_inf_as_na', True):\n",
      "C:\\Users\\adhar\\anaconda3\\Lib\\site-packages\\seaborn\\_oldcore.py:1119: FutureWarning: use_inf_as_na option is deprecated and will be removed in a future version. Convert inf values to NaN before operating instead.\n",
      "  with pd.option_context('mode.use_inf_as_na', True):\n"
     ]
    },
    {
     "data": {
      "image/png": "[encoded data removed]",
      "text/plain": [
       "<Figure size 800x300 with 1 Axes>"
      ]
     },
     "metadata": {},
     "output_type": "display_data"
    }
   ],
   "source": [
    "release_year_counts = release_year_count['release_year'].value_counts().reset_index()\n",
    "release_year_counts.columns = ['release_year', 'count']\n",
    "release_year_counts = release_year_counts.sort_values(by='count', ascending=False)\n",
    "plt.figure(figsize=(8, 3))\n",
    "sns.lineplot(x='release_year', y='count', data=release_year_counts)\n",
    "plt.xticks(rotation=90, fontsize=10)\n",
    "plt.title('Total Movies releases on every year')\n",
    "plt.show()"
   ]
  },
  {
   "cell_type": "markdown",
   "id": "b55be4af-7ee9-4bd4-b535-50c3a82a431e",
   "metadata": {},
   "source": [
    "From 2000 to 2018, the number of movie releases gradually increased, reaching its peak in 2018. After 2018, the number of movie releases decreased."
   ]
  },
  {
   "cell_type": "code",
   "execution_count": 44,
   "id": "8a701754-5eeb-4e59-8508-6855afea7c88",
   "metadata": {},
   "outputs": [
    {
     "data": {
      "text/plain": [
       "listed_in\n",
       " International Movies        2624\n",
       "Dramas                       1600\n",
       "Comedies                     1210\n",
       "Action & Adventure            859\n",
       "Documentaries                 829\n",
       "                             ... \n",
       "Romantic Movies                 3\n",
       "Spanish-Language TV Shows       2\n",
       "LGBTQ Movies                    1\n",
       "TV Sci-Fi & Fantasy             1\n",
       "Sports Movies                   1\n",
       "Name: count, Length: 73, dtype: int64"
      ]
     },
     "execution_count": 44,
     "metadata": {},
     "output_type": "execute_result"
    }
   ],
   "source": [
    "listed_in_count = final_df[[\"listed_in\",\"title\"]].drop_duplicates(subset=[\"listed_in\",\"title\"],keep = \"first\")\n",
    "listed_in_count[\"listed_in\"].value_counts()"
   ]
  },
  {
   "cell_type": "code",
   "execution_count": 45,
   "id": "f32f2211-f532-4cde-839d-2bebae01eb1c",
   "metadata": {},
   "outputs": [
    {
     "data": {
      "image/png": "[encoded data removed]",
      "text/plain": [
       "<Figure size 800x300 with 1 Axes>"
      ]
     },
     "metadata": {},
     "output_type": "display_data"
    }
   ],
   "source": [
    "listed_in_counts = listed_in_count['listed_in'].value_counts().reset_index().head(10)\n",
    "listed_in_counts.columns = ['listed_in', 'count']\n",
    "listed_in_counts = listed_in_counts.sort_values(by='count', ascending=False)\n",
    "plt.figure(figsize=(8, 3))\n",
    "sns.barplot(x='listed_in', y='count', data=listed_in_counts)\n",
    "plt.xticks(rotation=90, fontsize=10)\n",
    "plt.title('TOP 10 Genre')\n",
    "plt.show()"
   ]
  },
  {
   "cell_type": "markdown",
   "id": "7af65036-3b81-4fc6-af68-dba2d6722e10",
   "metadata": {},
   "source": [
    "In Top 10 Movie Genres, Internation Movies is having highest movie release genre."
   ]
  },
  {
   "cell_type": "code",
   "execution_count": 46,
   "id": "ebf5303c-689e-49eb-8fd5-4008fb1df4b2",
   "metadata": {},
   "outputs": [
    {
     "data": {
      "text/plain": [
       "cast\n",
       "Unknown Actor             825\n",
       " Anupam Kher               39\n",
       " Rupa Bhimani              31\n",
       " Takahiro Sakurai          30\n",
       " Julie Tejwani             28\n",
       "                         ... \n",
       " Vedika                     1\n",
       " Tedros Teclebrhan          1\n",
       " Maryam Zaree               1\n",
       " Melanie Straub             1\n",
       " Chittaranjan Tripathy      1\n",
       "Name: count, Length: 39297, dtype: int64"
      ]
     },
     "execution_count": 46,
     "metadata": {},
     "output_type": "execute_result"
    }
   ],
   "source": [
    "cast_count = final_df[[\"cast\",\"title\"]].drop_duplicates(subset=[\"cast\",\"title\"],keep = \"first\")\n",
    "cast_count[\"cast\"].value_counts()"
   ]
  },
  {
   "cell_type": "code",
   "execution_count": 47,
   "id": "5d679006-be28-42bc-832a-dd2766e8e8a3",
   "metadata": {},
   "outputs": [
    {
     "data": {
      "image/png": "[encoded data removed]",
      "text/plain": [
       "<Figure size 800x300 with 1 Axes>"
      ]
     },
     "metadata": {},
     "output_type": "display_data"
    }
   ],
   "source": [
    "cast_counts = cast_count['cast'].value_counts().reset_index().head(11)\n",
    "cast_counts.columns = ['cast', 'count']\n",
    "cast_counts = cast_counts.sort_values(by='count', ascending=False)\n",
    "plt.figure(figsize=(8, 3))\n",
    "sns.barplot(x='cast', y='count', data=cast_counts)\n",
    "plt.xticks(rotation=90, fontsize=10)\n",
    "plt.title('TOP 10 Actors')\n",
    "plt.show()"
   ]
  },
  {
   "cell_type": "markdown",
   "id": "d26bf6b9-fa85-4808-bd2b-5609fe240a08",
   "metadata": {},
   "source": [
    "Except for unknown actors, we identified the top 10 actors who appeared in the most movies and TV shows."
   ]
  },
  {
   "cell_type": "code",
   "execution_count": 48,
   "id": "21b79f5b-e674-45ba-b300-3cb8c172e1f8",
   "metadata": {},
   "outputs": [
    {
     "data": {
      "text/plain": [
       "director\n",
       "Unknown director    2634\n",
       "Rajiv Chilaka         22\n",
       " Jan Suter            18\n",
       "Raúl Campos           18\n",
       "Marcus Raboy          16\n",
       "                    ... \n",
       "Eric Bross             1\n",
       "Will Eisenberg         1\n",
       "Marina Seresesky       1\n",
       "Kenny Leon             1\n",
       "Mozez Singh            1\n",
       "Name: count, Length: 5121, dtype: int64"
      ]
     },
     "execution_count": 48,
     "metadata": {},
     "output_type": "execute_result"
    }
   ],
   "source": [
    "director_count = final_df[[\"director\",\"title\"]].drop_duplicates(subset=[\"director\",\"title\"],keep = \"first\")\n",
    "director_count[\"director\"].value_counts()"
   ]
  },
  {
   "cell_type": "code",
   "execution_count": 49,
   "id": "f402692f-4b69-471e-8f01-bd8f331c858f",
   "metadata": {},
   "outputs": [
    {
     "data": {
      "image/png": "[encoded data removed]",
      "text/plain": [
       "<Figure size 800x300 with 1 Axes>"
      ]
     },
     "metadata": {},
     "output_type": "display_data"
    }
   ],
   "source": [
    "director_counts = director_count['director'].value_counts().reset_index().head(11)\n",
    "director_counts.columns = ['director', 'count']\n",
    "director_counts = director_counts.sort_values(by='count', ascending=False)\n",
    "plt.figure(figsize=(8, 3))\n",
    "sns.barplot(x='director', y='count', data=director_counts)\n",
    "plt.xticks(rotation=90, fontsize=10)\n",
    "plt.title('TOP 10 Directors')\n",
    "plt.show()"
   ]
  },
  {
   "cell_type": "markdown",
   "id": "511dbcb7-37e4-47ba-8bcf-1c25ce3e7555",
   "metadata": {},
   "source": [
    "TOP 10 Directors, Most of the title we don't have an directors name."
   ]
  },
  {
   "cell_type": "markdown",
   "id": "38b5c88f-a040-40bc-9a18-e8a6ff531999",
   "metadata": {},
   "source": [
    "#### TOP Countries that produced movies & TV Shows."
   ]
  },
  {
   "cell_type": "code",
   "execution_count": 50,
   "id": "3780ab35-769a-43d9-93cb-c736d89db7d2",
   "metadata": {},
   "outputs": [],
   "source": [
    "type_count = final_df[[\"country\",\"title\",\"type\"]].drop_duplicates(subset=[\"country\",\"title\",\"type\"],keep = \"first\").reset_index()"
   ]
  },
  {
   "cell_type": "code",
   "execution_count": 51,
   "id": "2d6bbe59-a908-4a1c-8c1b-606a3cdcd7e8",
   "metadata": {},
   "outputs": [],
   "source": [
    "movie=type_count.loc[type_count[\"type\"]==\"Movie\"]"
   ]
  },
  {
   "cell_type": "code",
   "execution_count": 52,
   "id": "b14006a3-e943-4c2c-b67a-735c4aaa734b",
   "metadata": {},
   "outputs": [
    {
     "data": {
      "text/html": [
       "<div>\n",
       "<style scoped>\n",
       "    .dataframe tbody tr th:only-of-type {\n",
       "        vertical-align: middle;\n",
       "    }\n",
       "\n",
       "    .dataframe tbody tr th {\n",
       "        vertical-align: top;\n",
       "    }\n",
       "\n",
       "    .dataframe thead th {\n",
       "        text-align: right;\n",
       "    }\n",
       "</style>\n",
       "<table border=\"1\" class=\"dataframe\">\n",
       "  <thead>\n",
       "    <tr style=\"text-align: right;\">\n",
       "      <th></th>\n",
       "      <th>country</th>\n",
       "      <th>type</th>\n",
       "    </tr>\n",
       "  </thead>\n",
       "  <tbody>\n",
       "    <tr>\n",
       "      <th>0</th>\n",
       "      <td>United States</td>\n",
       "      <td>2364</td>\n",
       "    </tr>\n",
       "    <tr>\n",
       "      <th>1</th>\n",
       "      <td>India</td>\n",
       "      <td>927</td>\n",
       "    </tr>\n",
       "    <tr>\n",
       "      <th>2</th>\n",
       "      <td>Unknown country</td>\n",
       "      <td>440</td>\n",
       "    </tr>\n",
       "    <tr>\n",
       "      <th>3</th>\n",
       "      <td>United States</td>\n",
       "      <td>388</td>\n",
       "    </tr>\n",
       "    <tr>\n",
       "      <th>4</th>\n",
       "      <td>United Kingdom</td>\n",
       "      <td>382</td>\n",
       "    </tr>\n",
       "    <tr>\n",
       "      <th>5</th>\n",
       "      <td>Canada</td>\n",
       "      <td>187</td>\n",
       "    </tr>\n",
       "    <tr>\n",
       "      <th>6</th>\n",
       "      <td>France</td>\n",
       "      <td>155</td>\n",
       "    </tr>\n",
       "    <tr>\n",
       "      <th>7</th>\n",
       "      <td>United Kingdom</td>\n",
       "      <td>152</td>\n",
       "    </tr>\n",
       "    <tr>\n",
       "      <th>8</th>\n",
       "      <td>France</td>\n",
       "      <td>148</td>\n",
       "    </tr>\n",
       "    <tr>\n",
       "      <th>9</th>\n",
       "      <td>Canada</td>\n",
       "      <td>132</td>\n",
       "    </tr>\n",
       "  </tbody>\n",
       "</table>\n",
       "</div>"
      ],
      "text/plain": [
       "           country  type\n",
       "0    United States  2364\n",
       "1            India   927\n",
       "2  Unknown country   440\n",
       "3    United States   388\n",
       "4   United Kingdom   382\n",
       "5           Canada   187\n",
       "6           France   155\n",
       "7   United Kingdom   152\n",
       "8           France   148\n",
       "9           Canada   132"
      ]
     },
     "execution_count": 52,
     "metadata": {},
     "output_type": "execute_result"
    }
   ],
   "source": [
    "movie.groupby(\"country\")[\"type\"].count().sort_values(ascending= False).reset_index().head(10)"
   ]
  },
  {
   "cell_type": "markdown",
   "id": "385257b5-9833-4003-8389-1be049625304",
   "metadata": {},
   "source": [
    "Inference:- Top 10 movie-producing countries and the USA has produced the highest number of movies."
   ]
  },
  {
   "cell_type": "markdown",
   "id": "33fefdaf-545e-4baf-a048-022a4cab0023",
   "metadata": {},
   "source": [
    "#### TOP 10 TV Shows Producing Countries"
   ]
  },
  {
   "cell_type": "code",
   "execution_count": 53,
   "id": "a0cda526-ee52-43e0-bbb7-06b6e56fd9ca",
   "metadata": {},
   "outputs": [],
   "source": [
    "TV_Shows=type_count.loc[type_count[\"type\"]==\"TV Show\"]"
   ]
  },
  {
   "cell_type": "code",
   "execution_count": 54,
   "id": "7182748f-db36-4e21-9206-21e5f00aaf26",
   "metadata": {},
   "outputs": [
    {
     "data": {
      "text/html": [
       "<div>\n",
       "<style scoped>\n",
       "    .dataframe tbody tr th:only-of-type {\n",
       "        vertical-align: middle;\n",
       "    }\n",
       "\n",
       "    .dataframe tbody tr th {\n",
       "        vertical-align: top;\n",
       "    }\n",
       "\n",
       "    .dataframe thead th {\n",
       "        text-align: right;\n",
       "    }\n",
       "</style>\n",
       "<table border=\"1\" class=\"dataframe\">\n",
       "  <thead>\n",
       "    <tr style=\"text-align: right;\">\n",
       "      <th></th>\n",
       "      <th>country</th>\n",
       "      <th>type</th>\n",
       "    </tr>\n",
       "  </thead>\n",
       "  <tbody>\n",
       "    <tr>\n",
       "      <th>0</th>\n",
       "      <td>United States</td>\n",
       "      <td>847</td>\n",
       "    </tr>\n",
       "    <tr>\n",
       "      <th>1</th>\n",
       "      <td>Unknown country</td>\n",
       "      <td>391</td>\n",
       "    </tr>\n",
       "    <tr>\n",
       "      <th>2</th>\n",
       "      <td>United Kingdom</td>\n",
       "      <td>246</td>\n",
       "    </tr>\n",
       "    <tr>\n",
       "      <th>3</th>\n",
       "      <td>Japan</td>\n",
       "      <td>174</td>\n",
       "    </tr>\n",
       "    <tr>\n",
       "      <th>4</th>\n",
       "      <td>South Korea</td>\n",
       "      <td>164</td>\n",
       "    </tr>\n",
       "    <tr>\n",
       "      <th>5</th>\n",
       "      <td>United States</td>\n",
       "      <td>91</td>\n",
       "    </tr>\n",
       "    <tr>\n",
       "      <th>6</th>\n",
       "      <td>Canada</td>\n",
       "      <td>84</td>\n",
       "    </tr>\n",
       "    <tr>\n",
       "      <th>7</th>\n",
       "      <td>India</td>\n",
       "      <td>81</td>\n",
       "    </tr>\n",
       "    <tr>\n",
       "      <th>8</th>\n",
       "      <td>Taiwan</td>\n",
       "      <td>70</td>\n",
       "    </tr>\n",
       "    <tr>\n",
       "      <th>9</th>\n",
       "      <td>France</td>\n",
       "      <td>64</td>\n",
       "    </tr>\n",
       "  </tbody>\n",
       "</table>\n",
       "</div>"
      ],
      "text/plain": [
       "           country  type\n",
       "0    United States   847\n",
       "1  Unknown country   391\n",
       "2   United Kingdom   246\n",
       "3            Japan   174\n",
       "4      South Korea   164\n",
       "5    United States    91\n",
       "6           Canada    84\n",
       "7            India    81\n",
       "8           Taiwan    70\n",
       "9           France    64"
      ]
     },
     "execution_count": 54,
     "metadata": {},
     "output_type": "execute_result"
    }
   ],
   "source": [
    "TV_Shows.groupby(\"country\")[\"type\"].count().sort_values(ascending= False).reset_index().head(10)"
   ]
  },
  {
   "cell_type": "markdown",
   "id": "aca1fb86-9310-4438-b5ee-e4420ceb0ed2",
   "metadata": {},
   "source": [
    "Inference :-Top 10 TV Shows-producing countries and the USA has produced the highest number of TV Shows."
   ]
  },
  {
   "cell_type": "markdown",
   "id": "d35c0cbf-a6f9-4733-888b-e246c8039917",
   "metadata": {},
   "source": [
    "The USA has produced the highest number of movies and TV shows. "
   ]
  },
  {
   "cell_type": "markdown",
   "id": "2332bed0-b69a-4b30-84b3-cba2bfaacd11",
   "metadata": {},
   "source": [
    "### Most Movies & TV Shows relases on week of the day"
   ]
  },
  {
   "cell_type": "code",
   "execution_count": 55,
   "id": "7e5ff844-8d30-49b9-ae44-5ffe48aaa91c",
   "metadata": {},
   "outputs": [],
   "source": [
    "final_df[\"week\"] = final_df[\"date_added\"].dt.day_of_week"
   ]
  },
  {
   "cell_type": "code",
   "execution_count": 56,
   "id": "9c7217e4-11bd-41d8-b9e5-1a8fafb4378f",
   "metadata": {},
   "outputs": [
    {
     "data": {
      "text/html": [
       "<div>\n",
       "<style scoped>\n",
       "    .dataframe tbody tr th:only-of-type {\n",
       "        vertical-align: middle;\n",
       "    }\n",
       "\n",
       "    .dataframe tbody tr th {\n",
       "        vertical-align: top;\n",
       "    }\n",
       "\n",
       "    .dataframe thead th {\n",
       "        text-align: right;\n",
       "    }\n",
       "</style>\n",
       "<table border=\"1\" class=\"dataframe\">\n",
       "  <thead>\n",
       "    <tr style=\"text-align: right;\">\n",
       "      <th></th>\n",
       "      <th>show_id</th>\n",
       "      <th>type</th>\n",
       "      <th>title</th>\n",
       "      <th>date_added</th>\n",
       "      <th>release_year</th>\n",
       "      <th>rating</th>\n",
       "      <th>description</th>\n",
       "      <th>cast</th>\n",
       "      <th>director</th>\n",
       "      <th>country</th>\n",
       "      <th>listed_in</th>\n",
       "      <th>new_duration</th>\n",
       "      <th>week</th>\n",
       "    </tr>\n",
       "  </thead>\n",
       "  <tbody>\n",
       "    <tr>\n",
       "      <th>0</th>\n",
       "      <td>s1</td>\n",
       "      <td>Movie</td>\n",
       "      <td>Dick Johnson Is Dead</td>\n",
       "      <td>2021-09-25</td>\n",
       "      <td>2020</td>\n",
       "      <td>PG-13</td>\n",
       "      <td>As her father nears the end of his life, filmm...</td>\n",
       "      <td>Unknown Actor</td>\n",
       "      <td>Kirsten Johnson</td>\n",
       "      <td>United States</td>\n",
       "      <td>Documentaries</td>\n",
       "      <td>90</td>\n",
       "      <td>5.0</td>\n",
       "    </tr>\n",
       "    <tr>\n",
       "      <th>1</th>\n",
       "      <td>s2</td>\n",
       "      <td>TV Show</td>\n",
       "      <td>Blood &amp; Water</td>\n",
       "      <td>2021-09-24</td>\n",
       "      <td>2021</td>\n",
       "      <td>TV-MA</td>\n",
       "      <td>After crossing paths at a party, a Cape Town t...</td>\n",
       "      <td>Ama Qamata</td>\n",
       "      <td>Unknown director</td>\n",
       "      <td>South Africa</td>\n",
       "      <td>International TV Shows</td>\n",
       "      <td>2</td>\n",
       "      <td>4.0</td>\n",
       "    </tr>\n",
       "    <tr>\n",
       "      <th>2</th>\n",
       "      <td>s2</td>\n",
       "      <td>TV Show</td>\n",
       "      <td>Blood &amp; Water</td>\n",
       "      <td>2021-09-24</td>\n",
       "      <td>2021</td>\n",
       "      <td>TV-MA</td>\n",
       "      <td>After crossing paths at a party, a Cape Town t...</td>\n",
       "      <td>Ama Qamata</td>\n",
       "      <td>Unknown director</td>\n",
       "      <td>South Africa</td>\n",
       "      <td>TV Dramas</td>\n",
       "      <td>2</td>\n",
       "      <td>4.0</td>\n",
       "    </tr>\n",
       "    <tr>\n",
       "      <th>3</th>\n",
       "      <td>s2</td>\n",
       "      <td>TV Show</td>\n",
       "      <td>Blood &amp; Water</td>\n",
       "      <td>2021-09-24</td>\n",
       "      <td>2021</td>\n",
       "      <td>TV-MA</td>\n",
       "      <td>After crossing paths at a party, a Cape Town t...</td>\n",
       "      <td>Ama Qamata</td>\n",
       "      <td>Unknown director</td>\n",
       "      <td>South Africa</td>\n",
       "      <td>TV Mysteries</td>\n",
       "      <td>2</td>\n",
       "      <td>4.0</td>\n",
       "    </tr>\n",
       "    <tr>\n",
       "      <th>4</th>\n",
       "      <td>s2</td>\n",
       "      <td>TV Show</td>\n",
       "      <td>Blood &amp; Water</td>\n",
       "      <td>2021-09-24</td>\n",
       "      <td>2021</td>\n",
       "      <td>TV-MA</td>\n",
       "      <td>After crossing paths at a party, a Cape Town t...</td>\n",
       "      <td>Khosi Ngema</td>\n",
       "      <td>Unknown director</td>\n",
       "      <td>South Africa</td>\n",
       "      <td>International TV Shows</td>\n",
       "      <td>2</td>\n",
       "      <td>4.0</td>\n",
       "    </tr>\n",
       "  </tbody>\n",
       "</table>\n",
       "</div>"
      ],
      "text/plain": [
       "  show_id     type                 title date_added  release_year rating  \\\n",
       "0      s1    Movie  Dick Johnson Is Dead 2021-09-25          2020  PG-13   \n",
       "1      s2  TV Show         Blood & Water 2021-09-24          2021  TV-MA   \n",
       "2      s2  TV Show         Blood & Water 2021-09-24          2021  TV-MA   \n",
       "3      s2  TV Show         Blood & Water 2021-09-24          2021  TV-MA   \n",
       "4      s2  TV Show         Blood & Water 2021-09-24          2021  TV-MA   \n",
       "\n",
       "                                         description           cast  \\\n",
       "0  As her father nears the end of his life, filmm...  Unknown Actor   \n",
       "1  After crossing paths at a party, a Cape Town t...     Ama Qamata   \n",
       "2  After crossing paths at a party, a Cape Town t...     Ama Qamata   \n",
       "3  After crossing paths at a party, a Cape Town t...     Ama Qamata   \n",
       "4  After crossing paths at a party, a Cape Town t...    Khosi Ngema   \n",
       "\n",
       "           director        country               listed_in new_duration  week  \n",
       "0   Kirsten Johnson  United States           Documentaries           90   5.0  \n",
       "1  Unknown director   South Africa  International TV Shows            2   4.0  \n",
       "2  Unknown director   South Africa               TV Dramas            2   4.0  \n",
       "3  Unknown director   South Africa            TV Mysteries            2   4.0  \n",
       "4  Unknown director   South Africa  International TV Shows            2   4.0  "
      ]
     },
     "execution_count": 56,
     "metadata": {},
     "output_type": "execute_result"
    }
   ],
   "source": [
    "final_df.head()"
   ]
  },
  {
   "cell_type": "code",
   "execution_count": 57,
   "id": "ebdc71fe-e51e-442f-a3fb-1bb23c29d3c5",
   "metadata": {},
   "outputs": [
    {
     "data": {
      "text/plain": [
       "array([ 5.,  4.,  3.,  2.,  1.,  0.,  6., nan])"
      ]
     },
     "execution_count": 57,
     "metadata": {},
     "output_type": "execute_result"
    }
   ],
   "source": [
    "final_df[\"week\"].unique()"
   ]
  },
  {
   "cell_type": "code",
   "execution_count": 58,
   "id": "137b38ad-23e0-4559-80f5-5bb3253bad42",
   "metadata": {},
   "outputs": [],
   "source": [
    "week_names = { 5.:\"Saturday\",  4.:\"Friday\",  3.:\"Thursday\",  2.:\"Wednesday\",  1.:\"Tuesday\",  0.:\"Monday\",  6.:\"Sunday\"}\n",
    "final_df['week'] = final_df['week'].replace(week_names)"
   ]
  },
  {
   "cell_type": "code",
   "execution_count": 59,
   "id": "c4c3619b-72c6-4948-9324-f10a5fc6f95c",
   "metadata": {},
   "outputs": [],
   "source": [
    "week_df = final_df[[\"title\",\"week\",\"type\"]].drop_duplicates(subset=[\"title\",\"week\",\"type\"],keep = \"first\").reset_index(drop=True)"
   ]
  },
  {
   "cell_type": "code",
   "execution_count": 60,
   "id": "048ce636-69ee-4f20-86dd-b9d029d5af19",
   "metadata": {},
   "outputs": [],
   "source": [
    "combined_grouped = week_df.groupby(['week', 'type']).size().reset_index(name='count')"
   ]
  },
  {
   "cell_type": "code",
   "execution_count": 61,
   "id": "58ab593d-b805-4de8-899a-fed7e13c46de",
   "metadata": {},
   "outputs": [
    {
     "data": {
      "text/html": [
       "<div>\n",
       "<style scoped>\n",
       "    .dataframe tbody tr th:only-of-type {\n",
       "        vertical-align: middle;\n",
       "    }\n",
       "\n",
       "    .dataframe tbody tr th {\n",
       "        vertical-align: top;\n",
       "    }\n",
       "\n",
       "    .dataframe thead th {\n",
       "        text-align: right;\n",
       "    }\n",
       "</style>\n",
       "<table border=\"1\" class=\"dataframe\">\n",
       "  <thead>\n",
       "    <tr style=\"text-align: right;\">\n",
       "      <th></th>\n",
       "      <th>week</th>\n",
       "      <th>type</th>\n",
       "      <th>count</th>\n",
       "    </tr>\n",
       "  </thead>\n",
       "  <tbody>\n",
       "    <tr>\n",
       "      <th>0</th>\n",
       "      <td>Friday</td>\n",
       "      <td>Movie</td>\n",
       "      <td>1566</td>\n",
       "    </tr>\n",
       "    <tr>\n",
       "      <th>1</th>\n",
       "      <td>Friday</td>\n",
       "      <td>TV Show</td>\n",
       "      <td>932</td>\n",
       "    </tr>\n",
       "    <tr>\n",
       "      <th>2</th>\n",
       "      <td>Monday</td>\n",
       "      <td>Movie</td>\n",
       "      <td>628</td>\n",
       "    </tr>\n",
       "    <tr>\n",
       "      <th>3</th>\n",
       "      <td>Monday</td>\n",
       "      <td>TV Show</td>\n",
       "      <td>223</td>\n",
       "    </tr>\n",
       "    <tr>\n",
       "      <th>4</th>\n",
       "      <td>Saturday</td>\n",
       "      <td>Movie</td>\n",
       "      <td>557</td>\n",
       "    </tr>\n",
       "  </tbody>\n",
       "</table>\n",
       "</div>"
      ],
      "text/plain": [
       "       week     type  count\n",
       "0    Friday    Movie   1566\n",
       "1    Friday  TV Show    932\n",
       "2    Monday    Movie    628\n",
       "3    Monday  TV Show    223\n",
       "4  Saturday    Movie    557"
      ]
     },
     "execution_count": 61,
     "metadata": {},
     "output_type": "execute_result"
    }
   ],
   "source": [
    "combined_grouped.head()"
   ]
  },
  {
   "cell_type": "code",
   "execution_count": 62,
   "id": "0665ea2e-c0ab-4b54-8808-f02fba16e8b5",
   "metadata": {},
   "outputs": [
    {
     "data": {
      "image/png": "[encoded data removed]",
      "text/plain": [
       "<Figure size 1200x600 with 1 Axes>"
      ]
     },
     "metadata": {},
     "output_type": "display_data"
    }
   ],
   "source": [
    "plt.figure(figsize=(12, 6))\n",
    "sns.barplot(x='week', y='count', hue='type', data=combined_grouped)\n",
    "plt.title('Number of Movies and TV Shows Released Each Week')\n",
    "plt.xlabel('Week of Year')\n",
    "plt.ylabel('Count of Releases')\n",
    "plt.legend(title='Type')\n",
    "plt.show()"
   ]
  },
  {
   "cell_type": "markdown",
   "id": "dfc0f636-0241-40c3-bf3e-1b428aa90eea",
   "metadata": {},
   "source": [
    "##### Inference: Based on the data, most movies and TV shows are released on Friday. Therefore, the best days to release a movie or TV show are Friday or Thursday.."
   ]
  },
  {
   "cell_type": "markdown",
   "id": "ffd47da4-adcc-4944-9635-4d802d172f3f",
   "metadata": {},
   "source": [
    "### Movie releases on month wise."
   ]
  },
  {
   "cell_type": "code",
   "execution_count": 63,
   "id": "66c36f1d-745d-4502-80db-b0a61369acb9",
   "metadata": {},
   "outputs": [],
   "source": [
    "final_df[\"month\"] = final_df[\"date_added\"].dt.month"
   ]
  },
  {
   "cell_type": "code",
   "execution_count": 64,
   "id": "0b57cfbd-5adf-4602-9f34-3703e8c8e0ff",
   "metadata": {},
   "outputs": [
    {
     "data": {
      "text/html": [
       "<div>\n",
       "<style scoped>\n",
       "    .dataframe tbody tr th:only-of-type {\n",
       "        vertical-align: middle;\n",
       "    }\n",
       "\n",
       "    .dataframe tbody tr th {\n",
       "        vertical-align: top;\n",
       "    }\n",
       "\n",
       "    .dataframe thead th {\n",
       "        text-align: right;\n",
       "    }\n",
       "</style>\n",
       "<table border=\"1\" class=\"dataframe\">\n",
       "  <thead>\n",
       "    <tr style=\"text-align: right;\">\n",
       "      <th></th>\n",
       "      <th>show_id</th>\n",
       "      <th>type</th>\n",
       "      <th>title</th>\n",
       "      <th>date_added</th>\n",
       "      <th>release_year</th>\n",
       "      <th>rating</th>\n",
       "      <th>description</th>\n",
       "      <th>cast</th>\n",
       "      <th>director</th>\n",
       "      <th>country</th>\n",
       "      <th>listed_in</th>\n",
       "      <th>new_duration</th>\n",
       "      <th>week</th>\n",
       "      <th>month</th>\n",
       "    </tr>\n",
       "  </thead>\n",
       "  <tbody>\n",
       "    <tr>\n",
       "      <th>0</th>\n",
       "      <td>s1</td>\n",
       "      <td>Movie</td>\n",
       "      <td>Dick Johnson Is Dead</td>\n",
       "      <td>2021-09-25</td>\n",
       "      <td>2020</td>\n",
       "      <td>PG-13</td>\n",
       "      <td>As her father nears the end of his life, filmm...</td>\n",
       "      <td>Unknown Actor</td>\n",
       "      <td>Kirsten Johnson</td>\n",
       "      <td>United States</td>\n",
       "      <td>Documentaries</td>\n",
       "      <td>90</td>\n",
       "      <td>Saturday</td>\n",
       "      <td>9.0</td>\n",
       "    </tr>\n",
       "    <tr>\n",
       "      <th>1</th>\n",
       "      <td>s2</td>\n",
       "      <td>TV Show</td>\n",
       "      <td>Blood &amp; Water</td>\n",
       "      <td>2021-09-24</td>\n",
       "      <td>2021</td>\n",
       "      <td>TV-MA</td>\n",
       "      <td>After crossing paths at a party, a Cape Town t...</td>\n",
       "      <td>Ama Qamata</td>\n",
       "      <td>Unknown director</td>\n",
       "      <td>South Africa</td>\n",
       "      <td>International TV Shows</td>\n",
       "      <td>2</td>\n",
       "      <td>Friday</td>\n",
       "      <td>9.0</td>\n",
       "    </tr>\n",
       "    <tr>\n",
       "      <th>2</th>\n",
       "      <td>s2</td>\n",
       "      <td>TV Show</td>\n",
       "      <td>Blood &amp; Water</td>\n",
       "      <td>2021-09-24</td>\n",
       "      <td>2021</td>\n",
       "      <td>TV-MA</td>\n",
       "      <td>After crossing paths at a party, a Cape Town t...</td>\n",
       "      <td>Ama Qamata</td>\n",
       "      <td>Unknown director</td>\n",
       "      <td>South Africa</td>\n",
       "      <td>TV Dramas</td>\n",
       "      <td>2</td>\n",
       "      <td>Friday</td>\n",
       "      <td>9.0</td>\n",
       "    </tr>\n",
       "    <tr>\n",
       "      <th>3</th>\n",
       "      <td>s2</td>\n",
       "      <td>TV Show</td>\n",
       "      <td>Blood &amp; Water</td>\n",
       "      <td>2021-09-24</td>\n",
       "      <td>2021</td>\n",
       "      <td>TV-MA</td>\n",
       "      <td>After crossing paths at a party, a Cape Town t...</td>\n",
       "      <td>Ama Qamata</td>\n",
       "      <td>Unknown director</td>\n",
       "      <td>South Africa</td>\n",
       "      <td>TV Mysteries</td>\n",
       "      <td>2</td>\n",
       "      <td>Friday</td>\n",
       "      <td>9.0</td>\n",
       "    </tr>\n",
       "    <tr>\n",
       "      <th>4</th>\n",
       "      <td>s2</td>\n",
       "      <td>TV Show</td>\n",
       "      <td>Blood &amp; Water</td>\n",
       "      <td>2021-09-24</td>\n",
       "      <td>2021</td>\n",
       "      <td>TV-MA</td>\n",
       "      <td>After crossing paths at a party, a Cape Town t...</td>\n",
       "      <td>Khosi Ngema</td>\n",
       "      <td>Unknown director</td>\n",
       "      <td>South Africa</td>\n",
       "      <td>International TV Shows</td>\n",
       "      <td>2</td>\n",
       "      <td>Friday</td>\n",
       "      <td>9.0</td>\n",
       "    </tr>\n",
       "  </tbody>\n",
       "</table>\n",
       "</div>"
      ],
      "text/plain": [
       "  show_id     type                 title date_added  release_year rating  \\\n",
       "0      s1    Movie  Dick Johnson Is Dead 2021-09-25          2020  PG-13   \n",
       "1      s2  TV Show         Blood & Water 2021-09-24          2021  TV-MA   \n",
       "2      s2  TV Show         Blood & Water 2021-09-24          2021  TV-MA   \n",
       "3      s2  TV Show         Blood & Water 2021-09-24          2021  TV-MA   \n",
       "4      s2  TV Show         Blood & Water 2021-09-24          2021  TV-MA   \n",
       "\n",
       "                                         description           cast  \\\n",
       "0  As her father nears the end of his life, filmm...  Unknown Actor   \n",
       "1  After crossing paths at a party, a Cape Town t...     Ama Qamata   \n",
       "2  After crossing paths at a party, a Cape Town t...     Ama Qamata   \n",
       "3  After crossing paths at a party, a Cape Town t...     Ama Qamata   \n",
       "4  After crossing paths at a party, a Cape Town t...    Khosi Ngema   \n",
       "\n",
       "           director        country               listed_in new_duration  \\\n",
       "0   Kirsten Johnson  United States           Documentaries           90   \n",
       "1  Unknown director   South Africa  International TV Shows            2   \n",
       "2  Unknown director   South Africa               TV Dramas            2   \n",
       "3  Unknown director   South Africa            TV Mysteries            2   \n",
       "4  Unknown director   South Africa  International TV Shows            2   \n",
       "\n",
       "       week  month  \n",
       "0  Saturday    9.0  \n",
       "1    Friday    9.0  \n",
       "2    Friday    9.0  \n",
       "3    Friday    9.0  \n",
       "4    Friday    9.0  "
      ]
     },
     "execution_count": 64,
     "metadata": {},
     "output_type": "execute_result"
    }
   ],
   "source": [
    "final_df.head()"
   ]
  },
  {
   "cell_type": "code",
   "execution_count": 65,
   "id": "f7f4dfd6-235e-4301-9910-ad510fb32155",
   "metadata": {},
   "outputs": [],
   "source": [
    "month_df = final_df[[\"title\",\"month\",\"type\"]].drop_duplicates(subset=[\"title\",\"month\",\"type\"],keep = \"first\").reset_index(drop=True)"
   ]
  },
  {
   "cell_type": "code",
   "execution_count": 66,
   "id": "a7d9402d-2f76-4ceb-b13f-9ccfd939eed6",
   "metadata": {},
   "outputs": [
    {
     "data": {
      "text/html": [
       "<div>\n",
       "<style scoped>\n",
       "    .dataframe tbody tr th:only-of-type {\n",
       "        vertical-align: middle;\n",
       "    }\n",
       "\n",
       "    .dataframe tbody tr th {\n",
       "        vertical-align: top;\n",
       "    }\n",
       "\n",
       "    .dataframe thead th {\n",
       "        text-align: right;\n",
       "    }\n",
       "</style>\n",
       "<table border=\"1\" class=\"dataframe\">\n",
       "  <thead>\n",
       "    <tr style=\"text-align: right;\">\n",
       "      <th></th>\n",
       "      <th>month</th>\n",
       "      <th>type</th>\n",
       "      <th>count</th>\n",
       "    </tr>\n",
       "  </thead>\n",
       "  <tbody>\n",
       "    <tr>\n",
       "      <th>0</th>\n",
       "      <td>7.0</td>\n",
       "      <td>Movie</td>\n",
       "      <td>565</td>\n",
       "    </tr>\n",
       "    <tr>\n",
       "      <th>1</th>\n",
       "      <td>4.0</td>\n",
       "      <td>Movie</td>\n",
       "      <td>550</td>\n",
       "    </tr>\n",
       "    <tr>\n",
       "      <th>2</th>\n",
       "      <td>12.0</td>\n",
       "      <td>Movie</td>\n",
       "      <td>547</td>\n",
       "    </tr>\n",
       "    <tr>\n",
       "      <th>3</th>\n",
       "      <td>1.0</td>\n",
       "      <td>Movie</td>\n",
       "      <td>546</td>\n",
       "    </tr>\n",
       "    <tr>\n",
       "      <th>4</th>\n",
       "      <td>10.0</td>\n",
       "      <td>Movie</td>\n",
       "      <td>545</td>\n",
       "    </tr>\n",
       "  </tbody>\n",
       "</table>\n",
       "</div>"
      ],
      "text/plain": [
       "   month   type  count\n",
       "0    7.0  Movie    565\n",
       "1    4.0  Movie    550\n",
       "2   12.0  Movie    547\n",
       "3    1.0  Movie    546\n",
       "4   10.0  Movie    545"
      ]
     },
     "execution_count": 66,
     "metadata": {},
     "output_type": "execute_result"
    }
   ],
   "source": [
    "combined_grouped = month_df.groupby(['month', 'type']).size().sort_values(ascending=False).reset_index(name='count')\n",
    "combined_grouped.head()"
   ]
  },
  {
   "cell_type": "code",
   "execution_count": 67,
   "id": "780784c7-de91-4860-a533-77feae0955ca",
   "metadata": {},
   "outputs": [
    {
     "data": {
      "image/png": "[encoded data removed]",
      "text/plain": [
       "<Figure size 1200x400 with 1 Axes>"
      ]
     },
     "metadata": {},
     "output_type": "display_data"
    }
   ],
   "source": [
    "plt.figure(figsize=(12, 4))\n",
    "sns.barplot(x='month', y='count', hue='type', data=combined_grouped)\n",
    "plt.title('Number of Movies and TV Shows Released in each month')\n",
    "plt.xlabel('Week of Year')\n",
    "plt.ylabel('Count of Releases')\n",
    "plt.legend(title='Type')\n",
    "plt.show()"
   ]
  },
  {
   "cell_type": "markdown",
   "id": "fd88a6fd-cce8-409d-ac17-814bd97eabc0",
   "metadata": {},
   "source": [
    "##### Inference: The release count of most movies and TV shows is almost equally distributed across all months, with only minor differences in movie releases in February and May."
   ]
  },
  {
   "cell_type": "markdown",
   "id": "ccfc3d77-4db6-456e-b636-5f1b884fbb41",
   "metadata": {},
   "source": [
    "#### Top 10 directors who have appeared in most movies or TV shows."
   ]
  },
  {
   "cell_type": "code",
   "execution_count": 68,
   "id": "eeab2e88-e8e2-4f79-a04f-f51f24b80b54",
   "metadata": {},
   "outputs": [],
   "source": [
    "directors= final_df[[\"type\",\"director\",\"title\"]].drop_duplicates(subset=[\"type\",\"director\",\"title\"],keep = \"first\").reset_index(drop=True)"
   ]
  },
  {
   "cell_type": "code",
   "execution_count": 69,
   "id": "7417715a-d5a3-4254-8f81-3c115fcc4d55",
   "metadata": {},
   "outputs": [
    {
     "data": {
      "text/html": [
       "<div>\n",
       "<style scoped>\n",
       "    .dataframe tbody tr th:only-of-type {\n",
       "        vertical-align: middle;\n",
       "    }\n",
       "\n",
       "    .dataframe tbody tr th {\n",
       "        vertical-align: top;\n",
       "    }\n",
       "\n",
       "    .dataframe thead th {\n",
       "        text-align: right;\n",
       "    }\n",
       "</style>\n",
       "<table border=\"1\" class=\"dataframe\">\n",
       "  <thead>\n",
       "    <tr style=\"text-align: right;\">\n",
       "      <th></th>\n",
       "      <th>type</th>\n",
       "      <th>director</th>\n",
       "      <th>title</th>\n",
       "    </tr>\n",
       "  </thead>\n",
       "  <tbody>\n",
       "    <tr>\n",
       "      <th>0</th>\n",
       "      <td>Movie</td>\n",
       "      <td>Kirsten Johnson</td>\n",
       "      <td>Dick Johnson Is Dead</td>\n",
       "    </tr>\n",
       "    <tr>\n",
       "      <th>1</th>\n",
       "      <td>TV Show</td>\n",
       "      <td>Unknown director</td>\n",
       "      <td>Blood &amp; Water</td>\n",
       "    </tr>\n",
       "    <tr>\n",
       "      <th>2</th>\n",
       "      <td>TV Show</td>\n",
       "      <td>Julien Leclercq</td>\n",
       "      <td>Ganglands</td>\n",
       "    </tr>\n",
       "    <tr>\n",
       "      <th>3</th>\n",
       "      <td>TV Show</td>\n",
       "      <td>Unknown director</td>\n",
       "      <td>Jailbirds New Orleans</td>\n",
       "    </tr>\n",
       "    <tr>\n",
       "      <th>4</th>\n",
       "      <td>TV Show</td>\n",
       "      <td>Unknown director</td>\n",
       "      <td>Kota Factory</td>\n",
       "    </tr>\n",
       "  </tbody>\n",
       "</table>\n",
       "</div>"
      ],
      "text/plain": [
       "      type          director                  title\n",
       "0    Movie   Kirsten Johnson   Dick Johnson Is Dead\n",
       "1  TV Show  Unknown director          Blood & Water\n",
       "2  TV Show   Julien Leclercq              Ganglands\n",
       "3  TV Show  Unknown director  Jailbirds New Orleans\n",
       "4  TV Show  Unknown director           Kota Factory"
      ]
     },
     "execution_count": 69,
     "metadata": {},
     "output_type": "execute_result"
    }
   ],
   "source": [
    "directors.head()"
   ]
  },
  {
   "cell_type": "code",
   "execution_count": 70,
   "id": "e3a86f43-5fe0-4bf2-bb4c-a8a8e2d6d2cc",
   "metadata": {},
   "outputs": [
    {
     "data": {
      "text/plain": [
       "(9612, 3)"
      ]
     },
     "execution_count": 70,
     "metadata": {},
     "output_type": "execute_result"
    }
   ],
   "source": [
    "directors.shape"
   ]
  },
  {
   "cell_type": "code",
   "execution_count": 71,
   "id": "70492d0e-6ad0-46fd-bab4-c47dcd0d16a1",
   "metadata": {},
   "outputs": [],
   "source": [
    "Directors_Group = directors.groupby(['director', 'type']).size().sort_values(ascending=False).reset_index(name='count')"
   ]
  },
  {
   "cell_type": "code",
   "execution_count": 72,
   "id": "80ccc4e3-aa64-4fd8-afbb-ca6fdebb8621",
   "metadata": {},
   "outputs": [],
   "source": [
    "TV_Show_directors = Directors_Group.loc[Directors_Group[\"type\"]==\"TV Show\"].reset_index(drop=True)"
   ]
  },
  {
   "cell_type": "code",
   "execution_count": 73,
   "id": "584432cd-b573-4957-871c-1811002f01c8",
   "metadata": {},
   "outputs": [],
   "source": [
    "movie_directors = Directors_Group.loc[Directors_Group[\"type\"]==\"Movie\"].reset_index(drop=True)"
   ]
  },
  {
   "cell_type": "code",
   "execution_count": 74,
   "id": "aefde9d2-3787-46e8-a70c-0ea711acdd3c",
   "metadata": {},
   "outputs": [
    {
     "data": {
      "text/html": [
       "<div>\n",
       "<style scoped>\n",
       "    .dataframe tbody tr th:only-of-type {\n",
       "        vertical-align: middle;\n",
       "    }\n",
       "\n",
       "    .dataframe tbody tr th {\n",
       "        vertical-align: top;\n",
       "    }\n",
       "\n",
       "    .dataframe thead th {\n",
       "        text-align: right;\n",
       "    }\n",
       "</style>\n",
       "<table border=\"1\" class=\"dataframe\">\n",
       "  <thead>\n",
       "    <tr style=\"text-align: right;\">\n",
       "      <th></th>\n",
       "      <th>director</th>\n",
       "      <th>type</th>\n",
       "      <th>count</th>\n",
       "    </tr>\n",
       "  </thead>\n",
       "  <tbody>\n",
       "    <tr>\n",
       "      <th>0</th>\n",
       "      <td>Unknown director</td>\n",
       "      <td>TV Show</td>\n",
       "      <td>2446</td>\n",
       "    </tr>\n",
       "    <tr>\n",
       "      <th>1</th>\n",
       "      <td>Alastair Fothergill</td>\n",
       "      <td>TV Show</td>\n",
       "      <td>3</td>\n",
       "    </tr>\n",
       "    <tr>\n",
       "      <th>2</th>\n",
       "      <td>Ken Burns</td>\n",
       "      <td>TV Show</td>\n",
       "      <td>3</td>\n",
       "    </tr>\n",
       "    <tr>\n",
       "      <th>3</th>\n",
       "      <td>Hsu Fu-chun</td>\n",
       "      <td>TV Show</td>\n",
       "      <td>2</td>\n",
       "    </tr>\n",
       "    <tr>\n",
       "      <th>4</th>\n",
       "      <td>Iginio Straffi</td>\n",
       "      <td>TV Show</td>\n",
       "      <td>2</td>\n",
       "    </tr>\n",
       "    <tr>\n",
       "      <th>5</th>\n",
       "      <td>Shin Won-ho</td>\n",
       "      <td>TV Show</td>\n",
       "      <td>2</td>\n",
       "    </tr>\n",
       "    <tr>\n",
       "      <th>6</th>\n",
       "      <td>Rob Seidenglanz</td>\n",
       "      <td>TV Show</td>\n",
       "      <td>2</td>\n",
       "    </tr>\n",
       "    <tr>\n",
       "      <th>7</th>\n",
       "      <td>Stan Lathan</td>\n",
       "      <td>TV Show</td>\n",
       "      <td>2</td>\n",
       "    </tr>\n",
       "    <tr>\n",
       "      <th>8</th>\n",
       "      <td>Jung-ah Im</td>\n",
       "      <td>TV Show</td>\n",
       "      <td>2</td>\n",
       "    </tr>\n",
       "    <tr>\n",
       "      <th>9</th>\n",
       "      <td>Joe Berlinger</td>\n",
       "      <td>TV Show</td>\n",
       "      <td>2</td>\n",
       "    </tr>\n",
       "    <tr>\n",
       "      <th>10</th>\n",
       "      <td>Gautham Vasudev Menon</td>\n",
       "      <td>TV Show</td>\n",
       "      <td>2</td>\n",
       "    </tr>\n",
       "  </tbody>\n",
       "</table>\n",
       "</div>"
      ],
      "text/plain": [
       "                  director     type  count\n",
       "0         Unknown director  TV Show   2446\n",
       "1      Alastair Fothergill  TV Show      3\n",
       "2                Ken Burns  TV Show      3\n",
       "3              Hsu Fu-chun  TV Show      2\n",
       "4           Iginio Straffi  TV Show      2\n",
       "5              Shin Won-ho  TV Show      2\n",
       "6          Rob Seidenglanz  TV Show      2\n",
       "7              Stan Lathan  TV Show      2\n",
       "8               Jung-ah Im  TV Show      2\n",
       "9            Joe Berlinger  TV Show      2\n",
       "10   Gautham Vasudev Menon  TV Show      2"
      ]
     },
     "execution_count": 74,
     "metadata": {},
     "output_type": "execute_result"
    }
   ],
   "source": [
    "TV_Show_directors.head(11)"
   ]
  },
  {
   "cell_type": "markdown",
   "id": "5703295d-dd85-4bdc-9977-21a490b3c9c2",
   "metadata": {},
   "source": [
    "##### Inference: Most of the data points have null values in the directors column. Among the available data, Alastair Fothergill has directed the most TV shows on Netflix."
   ]
  },
  {
   "cell_type": "code",
   "execution_count": 75,
   "id": "00f04da1-cd9d-47a6-8cb3-24dce7722def",
   "metadata": {},
   "outputs": [
    {
     "data": {
      "text/html": [
       "<div>\n",
       "<style scoped>\n",
       "    .dataframe tbody tr th:only-of-type {\n",
       "        vertical-align: middle;\n",
       "    }\n",
       "\n",
       "    .dataframe tbody tr th {\n",
       "        vertical-align: top;\n",
       "    }\n",
       "\n",
       "    .dataframe thead th {\n",
       "        text-align: right;\n",
       "    }\n",
       "</style>\n",
       "<table border=\"1\" class=\"dataframe\">\n",
       "  <thead>\n",
       "    <tr style=\"text-align: right;\">\n",
       "      <th></th>\n",
       "      <th>director</th>\n",
       "      <th>type</th>\n",
       "      <th>count</th>\n",
       "    </tr>\n",
       "  </thead>\n",
       "  <tbody>\n",
       "    <tr>\n",
       "      <th>0</th>\n",
       "      <td>Unknown director</td>\n",
       "      <td>Movie</td>\n",
       "      <td>188</td>\n",
       "    </tr>\n",
       "    <tr>\n",
       "      <th>1</th>\n",
       "      <td>Rajiv Chilaka</td>\n",
       "      <td>Movie</td>\n",
       "      <td>22</td>\n",
       "    </tr>\n",
       "    <tr>\n",
       "      <th>2</th>\n",
       "      <td>Raúl Campos</td>\n",
       "      <td>Movie</td>\n",
       "      <td>18</td>\n",
       "    </tr>\n",
       "    <tr>\n",
       "      <th>3</th>\n",
       "      <td>Jan Suter</td>\n",
       "      <td>Movie</td>\n",
       "      <td>18</td>\n",
       "    </tr>\n",
       "    <tr>\n",
       "      <th>4</th>\n",
       "      <td>Suhas Kadav</td>\n",
       "      <td>Movie</td>\n",
       "      <td>16</td>\n",
       "    </tr>\n",
       "    <tr>\n",
       "      <th>5</th>\n",
       "      <td>Marcus Raboy</td>\n",
       "      <td>Movie</td>\n",
       "      <td>15</td>\n",
       "    </tr>\n",
       "    <tr>\n",
       "      <th>6</th>\n",
       "      <td>Jay Karas</td>\n",
       "      <td>Movie</td>\n",
       "      <td>15</td>\n",
       "    </tr>\n",
       "    <tr>\n",
       "      <th>7</th>\n",
       "      <td>Cathy Garcia-Molina</td>\n",
       "      <td>Movie</td>\n",
       "      <td>13</td>\n",
       "    </tr>\n",
       "    <tr>\n",
       "      <th>8</th>\n",
       "      <td>Youssef Chahine</td>\n",
       "      <td>Movie</td>\n",
       "      <td>12</td>\n",
       "    </tr>\n",
       "    <tr>\n",
       "      <th>9</th>\n",
       "      <td>Martin Scorsese</td>\n",
       "      <td>Movie</td>\n",
       "      <td>12</td>\n",
       "    </tr>\n",
       "  </tbody>\n",
       "</table>\n",
       "</div>"
      ],
      "text/plain": [
       "              director   type  count\n",
       "0     Unknown director  Movie    188\n",
       "1        Rajiv Chilaka  Movie     22\n",
       "2          Raúl Campos  Movie     18\n",
       "3            Jan Suter  Movie     18\n",
       "4          Suhas Kadav  Movie     16\n",
       "5         Marcus Raboy  Movie     15\n",
       "6            Jay Karas  Movie     15\n",
       "7  Cathy Garcia-Molina  Movie     13\n",
       "8      Youssef Chahine  Movie     12\n",
       "9      Martin Scorsese  Movie     12"
      ]
     },
     "execution_count": 75,
     "metadata": {},
     "output_type": "execute_result"
    }
   ],
   "source": [
    "movie_directors.head(10)"
   ]
  },
  {
   "cell_type": "markdown",
   "id": "d52c4de5-b241-4c11-b457-c9f25f78c708",
   "metadata": {},
   "source": [
    "##### Inference: Most of the data points have null values in the directors column. Among the available data, Rajiv Chilaka has directed the most Movies on Netflix."
   ]
  },
  {
   "cell_type": "markdown",
   "id": "159bdad4-af74-4763-bc40-76b769bad7f0",
   "metadata": {},
   "source": [
    "#### Top 10 Actors who have appeared in most movies and TV shows."
   ]
  },
  {
   "cell_type": "code",
   "execution_count": 76,
   "id": "a74da299-9b66-42f2-a716-696473e98419",
   "metadata": {},
   "outputs": [],
   "source": [
    "cast= final_df[[\"type\",\"cast\",\"title\"]].drop_duplicates(subset=[\"type\",\"cast\",\"title\"],keep = \"first\").reset_index(drop=True)"
   ]
  },
  {
   "cell_type": "code",
   "execution_count": 77,
   "id": "a24a2852-82a3-4f5f-9e95-7b0851c95704",
   "metadata": {},
   "outputs": [],
   "source": [
    "cast_group = cast.groupby([\"cast\",\"type\"])[\"title\"].size().sort_values(ascending=False).reset_index(name='count')"
   ]
  },
  {
   "cell_type": "code",
   "execution_count": 78,
   "id": "c7297e6d-1151-46bf-bb35-4781f2fe18cf",
   "metadata": {},
   "outputs": [],
   "source": [
    "TV_Show_cast = cast_group.loc[cast_group[\"type\"]==\"TV Show\"].reset_index(drop=True)\n",
    "movie_cast= cast_group.loc[cast_group[\"type\"]==\"Movie\"].reset_index(drop=True)"
   ]
  },
  {
   "cell_type": "code",
   "execution_count": 79,
   "id": "cb7f6a23-5eb6-4f56-8e69-5b046876663b",
   "metadata": {},
   "outputs": [
    {
     "data": {
      "text/html": [
       "<div>\n",
       "<style scoped>\n",
       "    .dataframe tbody tr th:only-of-type {\n",
       "        vertical-align: middle;\n",
       "    }\n",
       "\n",
       "    .dataframe tbody tr th {\n",
       "        vertical-align: top;\n",
       "    }\n",
       "\n",
       "    .dataframe thead th {\n",
       "        text-align: right;\n",
       "    }\n",
       "</style>\n",
       "<table border=\"1\" class=\"dataframe\">\n",
       "  <thead>\n",
       "    <tr style=\"text-align: right;\">\n",
       "      <th></th>\n",
       "      <th>cast</th>\n",
       "      <th>type</th>\n",
       "      <th>count</th>\n",
       "    </tr>\n",
       "  </thead>\n",
       "  <tbody>\n",
       "    <tr>\n",
       "      <th>0</th>\n",
       "      <td>Unknown Actor</td>\n",
       "      <td>TV Show</td>\n",
       "      <td>350</td>\n",
       "    </tr>\n",
       "    <tr>\n",
       "      <th>1</th>\n",
       "      <td>Takahiro Sakurai</td>\n",
       "      <td>TV Show</td>\n",
       "      <td>24</td>\n",
       "    </tr>\n",
       "    <tr>\n",
       "      <th>2</th>\n",
       "      <td>Junichi Suwabe</td>\n",
       "      <td>TV Show</td>\n",
       "      <td>17</td>\n",
       "    </tr>\n",
       "    <tr>\n",
       "      <th>3</th>\n",
       "      <td>Ai Kayano</td>\n",
       "      <td>TV Show</td>\n",
       "      <td>17</td>\n",
       "    </tr>\n",
       "    <tr>\n",
       "      <th>4</th>\n",
       "      <td>Yuki Kaji</td>\n",
       "      <td>TV Show</td>\n",
       "      <td>17</td>\n",
       "    </tr>\n",
       "    <tr>\n",
       "      <th>5</th>\n",
       "      <td>David Attenborough</td>\n",
       "      <td>TV Show</td>\n",
       "      <td>14</td>\n",
       "    </tr>\n",
       "    <tr>\n",
       "      <th>6</th>\n",
       "      <td>Daisuke Ono</td>\n",
       "      <td>TV Show</td>\n",
       "      <td>14</td>\n",
       "    </tr>\n",
       "    <tr>\n",
       "      <th>7</th>\n",
       "      <td>Yuichi Nakamura</td>\n",
       "      <td>TV Show</td>\n",
       "      <td>13</td>\n",
       "    </tr>\n",
       "    <tr>\n",
       "      <th>8</th>\n",
       "      <td>Yoshimasa Hosoya</td>\n",
       "      <td>TV Show</td>\n",
       "      <td>13</td>\n",
       "    </tr>\n",
       "    <tr>\n",
       "      <th>9</th>\n",
       "      <td>Takehito Koyasu</td>\n",
       "      <td>TV Show</td>\n",
       "      <td>13</td>\n",
       "    </tr>\n",
       "    <tr>\n",
       "      <th>10</th>\n",
       "      <td>Kana Hanazawa</td>\n",
       "      <td>TV Show</td>\n",
       "      <td>12</td>\n",
       "    </tr>\n",
       "  </tbody>\n",
       "</table>\n",
       "</div>"
      ],
      "text/plain": [
       "                  cast     type  count\n",
       "0        Unknown Actor  TV Show    350\n",
       "1     Takahiro Sakurai  TV Show     24\n",
       "2       Junichi Suwabe  TV Show     17\n",
       "3            Ai Kayano  TV Show     17\n",
       "4            Yuki Kaji  TV Show     17\n",
       "5   David Attenborough  TV Show     14\n",
       "6          Daisuke Ono  TV Show     14\n",
       "7      Yuichi Nakamura  TV Show     13\n",
       "8     Yoshimasa Hosoya  TV Show     13\n",
       "9      Takehito Koyasu  TV Show     13\n",
       "10       Kana Hanazawa  TV Show     12"
      ]
     },
     "execution_count": 79,
     "metadata": {},
     "output_type": "execute_result"
    }
   ],
   "source": [
    "TV_Show_cast.head(11)"
   ]
  },
  {
   "cell_type": "markdown",
   "id": "37d9c1db-741e-429f-b949-8d432ba597aa",
   "metadata": {},
   "source": [
    "###### Inference: Most of the data points have null values in the Cast column. Among the available data, Takahiro Sakurai has Acted the most TV shows on Netflix."
   ]
  },
  {
   "cell_type": "code",
   "execution_count": 80,
   "id": "f28cb903-5967-4d0c-ad98-d59669e49cfe",
   "metadata": {},
   "outputs": [
    {
     "data": {
      "text/html": [
       "<div>\n",
       "<style scoped>\n",
       "    .dataframe tbody tr th:only-of-type {\n",
       "        vertical-align: middle;\n",
       "    }\n",
       "\n",
       "    .dataframe tbody tr th {\n",
       "        vertical-align: top;\n",
       "    }\n",
       "\n",
       "    .dataframe thead th {\n",
       "        text-align: right;\n",
       "    }\n",
       "</style>\n",
       "<table border=\"1\" class=\"dataframe\">\n",
       "  <thead>\n",
       "    <tr style=\"text-align: right;\">\n",
       "      <th></th>\n",
       "      <th>cast</th>\n",
       "      <th>type</th>\n",
       "      <th>count</th>\n",
       "    </tr>\n",
       "  </thead>\n",
       "  <tbody>\n",
       "    <tr>\n",
       "      <th>0</th>\n",
       "      <td>Unknown Actor</td>\n",
       "      <td>Movie</td>\n",
       "      <td>475</td>\n",
       "    </tr>\n",
       "    <tr>\n",
       "      <th>1</th>\n",
       "      <td>Anupam Kher</td>\n",
       "      <td>Movie</td>\n",
       "      <td>38</td>\n",
       "    </tr>\n",
       "    <tr>\n",
       "      <th>2</th>\n",
       "      <td>Rupa Bhimani</td>\n",
       "      <td>Movie</td>\n",
       "      <td>27</td>\n",
       "    </tr>\n",
       "    <tr>\n",
       "      <th>3</th>\n",
       "      <td>Om Puri</td>\n",
       "      <td>Movie</td>\n",
       "      <td>27</td>\n",
       "    </tr>\n",
       "    <tr>\n",
       "      <th>4</th>\n",
       "      <td>Shah Rukh Khan</td>\n",
       "      <td>Movie</td>\n",
       "      <td>26</td>\n",
       "    </tr>\n",
       "    <tr>\n",
       "      <th>5</th>\n",
       "      <td>Paresh Rawal</td>\n",
       "      <td>Movie</td>\n",
       "      <td>25</td>\n",
       "    </tr>\n",
       "    <tr>\n",
       "      <th>6</th>\n",
       "      <td>Boman Irani</td>\n",
       "      <td>Movie</td>\n",
       "      <td>25</td>\n",
       "    </tr>\n",
       "    <tr>\n",
       "      <th>7</th>\n",
       "      <td>Julie Tejwani</td>\n",
       "      <td>Movie</td>\n",
       "      <td>24</td>\n",
       "    </tr>\n",
       "    <tr>\n",
       "      <th>8</th>\n",
       "      <td>Akshay Kumar</td>\n",
       "      <td>Movie</td>\n",
       "      <td>23</td>\n",
       "    </tr>\n",
       "    <tr>\n",
       "      <th>9</th>\n",
       "      <td>Rajesh Kava</td>\n",
       "      <td>Movie</td>\n",
       "      <td>21</td>\n",
       "    </tr>\n",
       "    <tr>\n",
       "      <th>10</th>\n",
       "      <td>Kareena Kapoor</td>\n",
       "      <td>Movie</td>\n",
       "      <td>20</td>\n",
       "    </tr>\n",
       "  </tbody>\n",
       "</table>\n",
       "</div>"
      ],
      "text/plain": [
       "               cast   type  count\n",
       "0     Unknown Actor  Movie    475\n",
       "1       Anupam Kher  Movie     38\n",
       "2      Rupa Bhimani  Movie     27\n",
       "3           Om Puri  Movie     27\n",
       "4    Shah Rukh Khan  Movie     26\n",
       "5      Paresh Rawal  Movie     25\n",
       "6       Boman Irani  Movie     25\n",
       "7     Julie Tejwani  Movie     24\n",
       "8      Akshay Kumar  Movie     23\n",
       "9       Rajesh Kava  Movie     21\n",
       "10   Kareena Kapoor  Movie     20"
      ]
     },
     "execution_count": 80,
     "metadata": {},
     "output_type": "execute_result"
    }
   ],
   "source": [
    "movie_cast.head(11)"
   ]
  },
  {
   "cell_type": "markdown",
   "id": "86f1a87b-1f44-473f-b19c-e9a7cc1a2f4e",
   "metadata": {},
   "source": [
    "###### Inference: Most of the data points have null values in the cast column. Among the available data, Anupam Kher has acted the most Movies on Netflix."
   ]
  },
  {
   "cell_type": "markdown",
   "id": "f27ba4ee-3077-4bc4-9609-dc5f42282672",
   "metadata": {},
   "source": [
    "####  genre movies are more popular or produced more"
   ]
  },
  {
   "cell_type": "code",
   "execution_count": 81,
   "id": "01dccdb6-4c79-4da7-a9d2-faceaa7d8bcf",
   "metadata": {},
   "outputs": [
    {
     "data": {
      "text/html": [
       "<div>\n",
       "<style scoped>\n",
       "    .dataframe tbody tr th:only-of-type {\n",
       "        vertical-align: middle;\n",
       "    }\n",
       "\n",
       "    .dataframe tbody tr th {\n",
       "        vertical-align: top;\n",
       "    }\n",
       "\n",
       "    .dataframe thead th {\n",
       "        text-align: right;\n",
       "    }\n",
       "</style>\n",
       "<table border=\"1\" class=\"dataframe\">\n",
       "  <thead>\n",
       "    <tr style=\"text-align: right;\">\n",
       "      <th></th>\n",
       "      <th>show_id</th>\n",
       "      <th>type</th>\n",
       "      <th>title</th>\n",
       "      <th>date_added</th>\n",
       "      <th>release_year</th>\n",
       "      <th>rating</th>\n",
       "      <th>description</th>\n",
       "      <th>cast</th>\n",
       "      <th>director</th>\n",
       "      <th>country</th>\n",
       "      <th>listed_in</th>\n",
       "      <th>new_duration</th>\n",
       "      <th>week</th>\n",
       "      <th>month</th>\n",
       "    </tr>\n",
       "  </thead>\n",
       "  <tbody>\n",
       "    <tr>\n",
       "      <th>0</th>\n",
       "      <td>s1</td>\n",
       "      <td>Movie</td>\n",
       "      <td>Dick Johnson Is Dead</td>\n",
       "      <td>2021-09-25</td>\n",
       "      <td>2020</td>\n",
       "      <td>PG-13</td>\n",
       "      <td>As her father nears the end of his life, filmm...</td>\n",
       "      <td>Unknown Actor</td>\n",
       "      <td>Kirsten Johnson</td>\n",
       "      <td>United States</td>\n",
       "      <td>Documentaries</td>\n",
       "      <td>90</td>\n",
       "      <td>Saturday</td>\n",
       "      <td>9.0</td>\n",
       "    </tr>\n",
       "    <tr>\n",
       "      <th>1</th>\n",
       "      <td>s2</td>\n",
       "      <td>TV Show</td>\n",
       "      <td>Blood &amp; Water</td>\n",
       "      <td>2021-09-24</td>\n",
       "      <td>2021</td>\n",
       "      <td>TV-MA</td>\n",
       "      <td>After crossing paths at a party, a Cape Town t...</td>\n",
       "      <td>Ama Qamata</td>\n",
       "      <td>Unknown director</td>\n",
       "      <td>South Africa</td>\n",
       "      <td>International TV Shows</td>\n",
       "      <td>2</td>\n",
       "      <td>Friday</td>\n",
       "      <td>9.0</td>\n",
       "    </tr>\n",
       "    <tr>\n",
       "      <th>2</th>\n",
       "      <td>s2</td>\n",
       "      <td>TV Show</td>\n",
       "      <td>Blood &amp; Water</td>\n",
       "      <td>2021-09-24</td>\n",
       "      <td>2021</td>\n",
       "      <td>TV-MA</td>\n",
       "      <td>After crossing paths at a party, a Cape Town t...</td>\n",
       "      <td>Ama Qamata</td>\n",
       "      <td>Unknown director</td>\n",
       "      <td>South Africa</td>\n",
       "      <td>TV Dramas</td>\n",
       "      <td>2</td>\n",
       "      <td>Friday</td>\n",
       "      <td>9.0</td>\n",
       "    </tr>\n",
       "    <tr>\n",
       "      <th>3</th>\n",
       "      <td>s2</td>\n",
       "      <td>TV Show</td>\n",
       "      <td>Blood &amp; Water</td>\n",
       "      <td>2021-09-24</td>\n",
       "      <td>2021</td>\n",
       "      <td>TV-MA</td>\n",
       "      <td>After crossing paths at a party, a Cape Town t...</td>\n",
       "      <td>Ama Qamata</td>\n",
       "      <td>Unknown director</td>\n",
       "      <td>South Africa</td>\n",
       "      <td>TV Mysteries</td>\n",
       "      <td>2</td>\n",
       "      <td>Friday</td>\n",
       "      <td>9.0</td>\n",
       "    </tr>\n",
       "    <tr>\n",
       "      <th>4</th>\n",
       "      <td>s2</td>\n",
       "      <td>TV Show</td>\n",
       "      <td>Blood &amp; Water</td>\n",
       "      <td>2021-09-24</td>\n",
       "      <td>2021</td>\n",
       "      <td>TV-MA</td>\n",
       "      <td>After crossing paths at a party, a Cape Town t...</td>\n",
       "      <td>Khosi Ngema</td>\n",
       "      <td>Unknown director</td>\n",
       "      <td>South Africa</td>\n",
       "      <td>International TV Shows</td>\n",
       "      <td>2</td>\n",
       "      <td>Friday</td>\n",
       "      <td>9.0</td>\n",
       "    </tr>\n",
       "  </tbody>\n",
       "</table>\n",
       "</div>"
      ],
      "text/plain": [
       "  show_id     type                 title date_added  release_year rating  \\\n",
       "0      s1    Movie  Dick Johnson Is Dead 2021-09-25          2020  PG-13   \n",
       "1      s2  TV Show         Blood & Water 2021-09-24          2021  TV-MA   \n",
       "2      s2  TV Show         Blood & Water 2021-09-24          2021  TV-MA   \n",
       "3      s2  TV Show         Blood & Water 2021-09-24          2021  TV-MA   \n",
       "4      s2  TV Show         Blood & Water 2021-09-24          2021  TV-MA   \n",
       "\n",
       "                                         description           cast  \\\n",
       "0  As her father nears the end of his life, filmm...  Unknown Actor   \n",
       "1  After crossing paths at a party, a Cape Town t...     Ama Qamata   \n",
       "2  After crossing paths at a party, a Cape Town t...     Ama Qamata   \n",
       "3  After crossing paths at a party, a Cape Town t...     Ama Qamata   \n",
       "4  After crossing paths at a party, a Cape Town t...    Khosi Ngema   \n",
       "\n",
       "           director        country               listed_in new_duration  \\\n",
       "0   Kirsten Johnson  United States           Documentaries           90   \n",
       "1  Unknown director   South Africa  International TV Shows            2   \n",
       "2  Unknown director   South Africa               TV Dramas            2   \n",
       "3  Unknown director   South Africa            TV Mysteries            2   \n",
       "4  Unknown director   South Africa  International TV Shows            2   \n",
       "\n",
       "       week  month  \n",
       "0  Saturday    9.0  \n",
       "1    Friday    9.0  \n",
       "2    Friday    9.0  \n",
       "3    Friday    9.0  \n",
       "4    Friday    9.0  "
      ]
     },
     "execution_count": 81,
     "metadata": {},
     "output_type": "execute_result"
    }
   ],
   "source": [
    "final_df.head()"
   ]
  },
  {
   "cell_type": "code",
   "execution_count": 82,
   "id": "031493cd-4b21-4b8f-ae88-f61cf520a8f7",
   "metadata": {},
   "outputs": [],
   "source": [
    "genre= final_df[[\"listed_in\",\"title\"]].drop_duplicates(subset=[\"listed_in\",\"title\"],keep = \"first\").reset_index(drop=True)"
   ]
  },
  {
   "cell_type": "code",
   "execution_count": 83,
   "id": "751e3693-a422-4eb0-8da3-491b88eb4c4e",
   "metadata": {},
   "outputs": [
    {
     "data": {
      "image/png": "[encoded data removed]",
      "text/plain": [
       "<Figure size 1000x500 with 1 Axes>"
      ]
     },
     "metadata": {},
     "output_type": "display_data"
    }
   ],
   "source": [
    "from wordcloud import WordCloud\n",
    "all_genres = ' '.join(genre['listed_in'].dropna())\n",
    "wordcloud = WordCloud(width=1000, height=500, background_color='white').generate(all_genres)\n",
    "\n",
    "# Plot the word cloud\n",
    "plt.figure(figsize=(10, 5))\n",
    "plt.imshow(wordcloud, interpolation='bilinear')\n",
    "plt.axis('off')\n",
    "plt.title('Most Common Movie/TV Shows Genres')\n",
    "plt.show()"
   ]
  },
  {
   "cell_type": "markdown",
   "id": "9bb5dbe6-e551-4eb5-982b-b342874aee94",
   "metadata": {},
   "source": [
    "#### Most movies and TV shows are a combination of a director and an actor."
   ]
  },
  {
   "cell_type": "code",
   "execution_count": 84,
   "id": "fd68ff0f-baf6-462a-ac51-baa6573a32d8",
   "metadata": {},
   "outputs": [],
   "source": [
    "actor_director= final_df[[\"cast\",\"title\",\"director\",\"type\"]].drop_duplicates(subset=[\"cast\",\"title\",\"director\",\"type\"],keep = \"first\").reset_index(drop=True)"
   ]
  },
  {
   "cell_type": "code",
   "execution_count": 85,
   "id": "46ddbf1e-8176-4fd3-ada4-7aa7c24527fc",
   "metadata": {},
   "outputs": [
    {
     "data": {
      "text/html": [
       "<div>\n",
       "<style scoped>\n",
       "    .dataframe tbody tr th:only-of-type {\n",
       "        vertical-align: middle;\n",
       "    }\n",
       "\n",
       "    .dataframe tbody tr th {\n",
       "        vertical-align: top;\n",
       "    }\n",
       "\n",
       "    .dataframe thead th {\n",
       "        text-align: right;\n",
       "    }\n",
       "</style>\n",
       "<table border=\"1\" class=\"dataframe\">\n",
       "  <thead>\n",
       "    <tr style=\"text-align: right;\">\n",
       "      <th></th>\n",
       "      <th>cast</th>\n",
       "      <th>title</th>\n",
       "      <th>director</th>\n",
       "      <th>type</th>\n",
       "    </tr>\n",
       "  </thead>\n",
       "  <tbody>\n",
       "    <tr>\n",
       "      <th>0</th>\n",
       "      <td>Unknown Actor</td>\n",
       "      <td>Dick Johnson Is Dead</td>\n",
       "      <td>Kirsten Johnson</td>\n",
       "      <td>Movie</td>\n",
       "    </tr>\n",
       "    <tr>\n",
       "      <th>1</th>\n",
       "      <td>Ama Qamata</td>\n",
       "      <td>Blood &amp; Water</td>\n",
       "      <td>Unknown director</td>\n",
       "      <td>TV Show</td>\n",
       "    </tr>\n",
       "    <tr>\n",
       "      <th>2</th>\n",
       "      <td>Khosi Ngema</td>\n",
       "      <td>Blood &amp; Water</td>\n",
       "      <td>Unknown director</td>\n",
       "      <td>TV Show</td>\n",
       "    </tr>\n",
       "    <tr>\n",
       "      <th>3</th>\n",
       "      <td>Gail Mabalane</td>\n",
       "      <td>Blood &amp; Water</td>\n",
       "      <td>Unknown director</td>\n",
       "      <td>TV Show</td>\n",
       "    </tr>\n",
       "    <tr>\n",
       "      <th>4</th>\n",
       "      <td>Thabang Molaba</td>\n",
       "      <td>Blood &amp; Water</td>\n",
       "      <td>Unknown director</td>\n",
       "      <td>TV Show</td>\n",
       "    </tr>\n",
       "  </tbody>\n",
       "</table>\n",
       "</div>"
      ],
      "text/plain": [
       "              cast                 title          director     type\n",
       "0    Unknown Actor  Dick Johnson Is Dead   Kirsten Johnson    Movie\n",
       "1       Ama Qamata         Blood & Water  Unknown director  TV Show\n",
       "2      Khosi Ngema         Blood & Water  Unknown director  TV Show\n",
       "3    Gail Mabalane         Blood & Water  Unknown director  TV Show\n",
       "4   Thabang Molaba         Blood & Water  Unknown director  TV Show"
      ]
     },
     "execution_count": 85,
     "metadata": {},
     "output_type": "execute_result"
    }
   ],
   "source": [
    "actor_director.head()"
   ]
  },
  {
   "cell_type": "code",
   "execution_count": 86,
   "id": "483a892f-93ff-4c81-b2eb-85a73d41e705",
   "metadata": {},
   "outputs": [],
   "source": [
    "actor_director_group = actor_director.groupby([\"cast\",\"director\",\"type\"])[\"title\"].size().sort_values(ascending=False).reset_index(name='count')"
   ]
  },
  {
   "cell_type": "code",
   "execution_count": 87,
   "id": "569de4fa-8efe-4fa7-adda-8adb51c6eb16",
   "metadata": {},
   "outputs": [],
   "source": [
    "tv_shows_A_D = actor_director_group.loc[actor_director_group[\"type\"]==\"TV Show\"]\n",
    "movie_A_D = actor_director_group.loc[actor_director_group[\"type\"]==\"Movie\"]"
   ]
  },
  {
   "cell_type": "code",
   "execution_count": 88,
   "id": "dec9b8c6-8c21-4428-bcc8-2241b8a1690e",
   "metadata": {},
   "outputs": [
    {
     "data": {
      "text/html": [
       "<div>\n",
       "<style scoped>\n",
       "    .dataframe tbody tr th:only-of-type {\n",
       "        vertical-align: middle;\n",
       "    }\n",
       "\n",
       "    .dataframe tbody tr th {\n",
       "        vertical-align: top;\n",
       "    }\n",
       "\n",
       "    .dataframe thead th {\n",
       "        text-align: right;\n",
       "    }\n",
       "</style>\n",
       "<table border=\"1\" class=\"dataframe\">\n",
       "  <thead>\n",
       "    <tr style=\"text-align: right;\">\n",
       "      <th></th>\n",
       "      <th>cast</th>\n",
       "      <th>director</th>\n",
       "      <th>type</th>\n",
       "      <th>count</th>\n",
       "    </tr>\n",
       "  </thead>\n",
       "  <tbody>\n",
       "    <tr>\n",
       "      <th>691</th>\n",
       "      <td>David Attenborough</td>\n",
       "      <td>Alastair Fothergill</td>\n",
       "      <td>TV Show</td>\n",
       "      <td>3</td>\n",
       "    </tr>\n",
       "    <tr>\n",
       "      <th>1466</th>\n",
       "      <td>Anjali</td>\n",
       "      <td>Gautham Vasudev Menon</td>\n",
       "      <td>TV Show</td>\n",
       "      <td>2</td>\n",
       "    </tr>\n",
       "    <tr>\n",
       "      <th>1558</th>\n",
       "      <td>Gautham Vasudev Menon</td>\n",
       "      <td>Gautham Vasudev Menon</td>\n",
       "      <td>TV Show</td>\n",
       "      <td>2</td>\n",
       "    </tr>\n",
       "    <tr>\n",
       "      <th>2230</th>\n",
       "      <td>Dave Chappelle</td>\n",
       "      <td>Stan Lathan</td>\n",
       "      <td>TV Show</td>\n",
       "      <td>2</td>\n",
       "    </tr>\n",
       "    <tr>\n",
       "      <th>2398</th>\n",
       "      <td>Lee Il-hwa</td>\n",
       "      <td>Shin Won-ho</td>\n",
       "      <td>TV Show</td>\n",
       "      <td>2</td>\n",
       "    </tr>\n",
       "  </tbody>\n",
       "</table>\n",
       "</div>"
      ],
      "text/plain": [
       "                        cast                director     type  count\n",
       "691       David Attenborough     Alastair Fothergill  TV Show      3\n",
       "1466                  Anjali   Gautham Vasudev Menon  TV Show      2\n",
       "1558   Gautham Vasudev Menon   Gautham Vasudev Menon  TV Show      2\n",
       "2230          Dave Chappelle             Stan Lathan  TV Show      2\n",
       "2398              Lee Il-hwa             Shin Won-ho  TV Show      2"
      ]
     },
     "execution_count": 88,
     "metadata": {},
     "output_type": "execute_result"
    }
   ],
   "source": [
    "tv_shows_A_D.loc[tv_shows_A_D[\"director\"]!=\"Unknown director\"].head()"
   ]
  },
  {
   "cell_type": "markdown",
   "id": "a344cd0b-805c-4df0-b7c2-c71d977f117a",
   "metadata": {},
   "source": [
    "The collaboration between actor David Attenborough and director Alastair Fothergill has resulted in the highest number of TV shows, excluding those with unknown directors."
   ]
  },
  {
   "cell_type": "code",
   "execution_count": 89,
   "id": "913175a1-a8eb-4b15-b8c5-a24e2825371a",
   "metadata": {},
   "outputs": [
    {
     "data": {
      "text/html": [
       "<div>\n",
       "<style scoped>\n",
       "    .dataframe tbody tr th:only-of-type {\n",
       "        vertical-align: middle;\n",
       "    }\n",
       "\n",
       "    .dataframe tbody tr th {\n",
       "        vertical-align: top;\n",
       "    }\n",
       "\n",
       "    .dataframe thead th {\n",
       "        text-align: right;\n",
       "    }\n",
       "</style>\n",
       "<table border=\"1\" class=\"dataframe\">\n",
       "  <thead>\n",
       "    <tr style=\"text-align: right;\">\n",
       "      <th></th>\n",
       "      <th>cast</th>\n",
       "      <th>director</th>\n",
       "      <th>type</th>\n",
       "      <th>count</th>\n",
       "    </tr>\n",
       "  </thead>\n",
       "  <tbody>\n",
       "    <tr>\n",
       "      <th>1</th>\n",
       "      <td>Unknown Actor</td>\n",
       "      <td>Unknown director</td>\n",
       "      <td>Movie</td>\n",
       "      <td>54</td>\n",
       "    </tr>\n",
       "    <tr>\n",
       "      <th>3</th>\n",
       "      <td>Rajesh Kava</td>\n",
       "      <td>Rajiv Chilaka</td>\n",
       "      <td>Movie</td>\n",
       "      <td>19</td>\n",
       "    </tr>\n",
       "    <tr>\n",
       "      <th>4</th>\n",
       "      <td>Julie Tejwani</td>\n",
       "      <td>Rajiv Chilaka</td>\n",
       "      <td>Movie</td>\n",
       "      <td>19</td>\n",
       "    </tr>\n",
       "    <tr>\n",
       "      <th>5</th>\n",
       "      <td>Rupa Bhimani</td>\n",
       "      <td>Rajiv Chilaka</td>\n",
       "      <td>Movie</td>\n",
       "      <td>18</td>\n",
       "    </tr>\n",
       "    <tr>\n",
       "      <th>6</th>\n",
       "      <td>Jigna Bhardwaj</td>\n",
       "      <td>Rajiv Chilaka</td>\n",
       "      <td>Movie</td>\n",
       "      <td>18</td>\n",
       "    </tr>\n",
       "  </tbody>\n",
       "</table>\n",
       "</div>"
      ],
      "text/plain": [
       "              cast          director   type  count\n",
       "1    Unknown Actor  Unknown director  Movie     54\n",
       "3      Rajesh Kava     Rajiv Chilaka  Movie     19\n",
       "4    Julie Tejwani     Rajiv Chilaka  Movie     19\n",
       "5     Rupa Bhimani     Rajiv Chilaka  Movie     18\n",
       "6   Jigna Bhardwaj     Rajiv Chilaka  Movie     18"
      ]
     },
     "execution_count": 89,
     "metadata": {},
     "output_type": "execute_result"
    }
   ],
   "source": [
    "movie_A_D.head()"
   ]
  },
  {
   "cell_type": "markdown",
   "id": "0689aded-a284-4151-848f-07fa89ac93db",
   "metadata": {},
   "source": [
    "The collaboration between actor Rajesh Kava, Julie Tejwani, and director Rajiv Chilaka has resulted in the highest number of movies, excluding those with unknown directors and actors."
   ]
  },
  {
   "cell_type": "markdown",
   "id": "de7f01c4-797b-40e8-91e6-36f5835035a8",
   "metadata": {},
   "source": [
    "#### Movies Avg Run time."
   ]
  },
  {
   "cell_type": "code",
   "execution_count": 90,
   "id": "5308abdd-089d-41d8-b864-5197966a28fc",
   "metadata": {},
   "outputs": [
    {
     "data": {
      "text/html": [
       "<div>\n",
       "<style scoped>\n",
       "    .dataframe tbody tr th:only-of-type {\n",
       "        vertical-align: middle;\n",
       "    }\n",
       "\n",
       "    .dataframe tbody tr th {\n",
       "        vertical-align: top;\n",
       "    }\n",
       "\n",
       "    .dataframe thead th {\n",
       "        text-align: right;\n",
       "    }\n",
       "</style>\n",
       "<table border=\"1\" class=\"dataframe\">\n",
       "  <thead>\n",
       "    <tr style=\"text-align: right;\">\n",
       "      <th></th>\n",
       "      <th>show_id</th>\n",
       "      <th>type</th>\n",
       "      <th>title</th>\n",
       "      <th>date_added</th>\n",
       "      <th>release_year</th>\n",
       "      <th>rating</th>\n",
       "      <th>description</th>\n",
       "      <th>cast</th>\n",
       "      <th>director</th>\n",
       "      <th>country</th>\n",
       "      <th>listed_in</th>\n",
       "      <th>new_duration</th>\n",
       "      <th>week</th>\n",
       "      <th>month</th>\n",
       "    </tr>\n",
       "  </thead>\n",
       "  <tbody>\n",
       "    <tr>\n",
       "      <th>0</th>\n",
       "      <td>s1</td>\n",
       "      <td>Movie</td>\n",
       "      <td>Dick Johnson Is Dead</td>\n",
       "      <td>2021-09-25</td>\n",
       "      <td>2020</td>\n",
       "      <td>PG-13</td>\n",
       "      <td>As her father nears the end of his life, filmm...</td>\n",
       "      <td>Unknown Actor</td>\n",
       "      <td>Kirsten Johnson</td>\n",
       "      <td>United States</td>\n",
       "      <td>Documentaries</td>\n",
       "      <td>90</td>\n",
       "      <td>Saturday</td>\n",
       "      <td>9.0</td>\n",
       "    </tr>\n",
       "    <tr>\n",
       "      <th>1</th>\n",
       "      <td>s2</td>\n",
       "      <td>TV Show</td>\n",
       "      <td>Blood &amp; Water</td>\n",
       "      <td>2021-09-24</td>\n",
       "      <td>2021</td>\n",
       "      <td>TV-MA</td>\n",
       "      <td>After crossing paths at a party, a Cape Town t...</td>\n",
       "      <td>Ama Qamata</td>\n",
       "      <td>Unknown director</td>\n",
       "      <td>South Africa</td>\n",
       "      <td>International TV Shows</td>\n",
       "      <td>2</td>\n",
       "      <td>Friday</td>\n",
       "      <td>9.0</td>\n",
       "    </tr>\n",
       "    <tr>\n",
       "      <th>2</th>\n",
       "      <td>s2</td>\n",
       "      <td>TV Show</td>\n",
       "      <td>Blood &amp; Water</td>\n",
       "      <td>2021-09-24</td>\n",
       "      <td>2021</td>\n",
       "      <td>TV-MA</td>\n",
       "      <td>After crossing paths at a party, a Cape Town t...</td>\n",
       "      <td>Ama Qamata</td>\n",
       "      <td>Unknown director</td>\n",
       "      <td>South Africa</td>\n",
       "      <td>TV Dramas</td>\n",
       "      <td>2</td>\n",
       "      <td>Friday</td>\n",
       "      <td>9.0</td>\n",
       "    </tr>\n",
       "    <tr>\n",
       "      <th>3</th>\n",
       "      <td>s2</td>\n",
       "      <td>TV Show</td>\n",
       "      <td>Blood &amp; Water</td>\n",
       "      <td>2021-09-24</td>\n",
       "      <td>2021</td>\n",
       "      <td>TV-MA</td>\n",
       "      <td>After crossing paths at a party, a Cape Town t...</td>\n",
       "      <td>Ama Qamata</td>\n",
       "      <td>Unknown director</td>\n",
       "      <td>South Africa</td>\n",
       "      <td>TV Mysteries</td>\n",
       "      <td>2</td>\n",
       "      <td>Friday</td>\n",
       "      <td>9.0</td>\n",
       "    </tr>\n",
       "    <tr>\n",
       "      <th>4</th>\n",
       "      <td>s2</td>\n",
       "      <td>TV Show</td>\n",
       "      <td>Blood &amp; Water</td>\n",
       "      <td>2021-09-24</td>\n",
       "      <td>2021</td>\n",
       "      <td>TV-MA</td>\n",
       "      <td>After crossing paths at a party, a Cape Town t...</td>\n",
       "      <td>Khosi Ngema</td>\n",
       "      <td>Unknown director</td>\n",
       "      <td>South Africa</td>\n",
       "      <td>International TV Shows</td>\n",
       "      <td>2</td>\n",
       "      <td>Friday</td>\n",
       "      <td>9.0</td>\n",
       "    </tr>\n",
       "  </tbody>\n",
       "</table>\n",
       "</div>"
      ],
      "text/plain": [
       "  show_id     type                 title date_added  release_year rating  \\\n",
       "0      s1    Movie  Dick Johnson Is Dead 2021-09-25          2020  PG-13   \n",
       "1      s2  TV Show         Blood & Water 2021-09-24          2021  TV-MA   \n",
       "2      s2  TV Show         Blood & Water 2021-09-24          2021  TV-MA   \n",
       "3      s2  TV Show         Blood & Water 2021-09-24          2021  TV-MA   \n",
       "4      s2  TV Show         Blood & Water 2021-09-24          2021  TV-MA   \n",
       "\n",
       "                                         description           cast  \\\n",
       "0  As her father nears the end of his life, filmm...  Unknown Actor   \n",
       "1  After crossing paths at a party, a Cape Town t...     Ama Qamata   \n",
       "2  After crossing paths at a party, a Cape Town t...     Ama Qamata   \n",
       "3  After crossing paths at a party, a Cape Town t...     Ama Qamata   \n",
       "4  After crossing paths at a party, a Cape Town t...    Khosi Ngema   \n",
       "\n",
       "           director        country               listed_in new_duration  \\\n",
       "0   Kirsten Johnson  United States           Documentaries           90   \n",
       "1  Unknown director   South Africa  International TV Shows            2   \n",
       "2  Unknown director   South Africa               TV Dramas            2   \n",
       "3  Unknown director   South Africa            TV Mysteries            2   \n",
       "4  Unknown director   South Africa  International TV Shows            2   \n",
       "\n",
       "       week  month  \n",
       "0  Saturday    9.0  \n",
       "1    Friday    9.0  \n",
       "2    Friday    9.0  \n",
       "3    Friday    9.0  \n",
       "4    Friday    9.0  "
      ]
     },
     "execution_count": 90,
     "metadata": {},
     "output_type": "execute_result"
    }
   ],
   "source": [
    "final_df.head()"
   ]
  },
  {
   "cell_type": "code",
   "execution_count": 91,
   "id": "8470e958-8733-4ce0-9906-9426f482f0df",
   "metadata": {},
   "outputs": [],
   "source": [
    "final_df['new_duration'] = pd.to_numeric(final_df['new_duration'], errors='coerce')"
   ]
  },
  {
   "cell_type": "code",
   "execution_count": 92,
   "id": "db4fe6fb-023e-47c6-99ae-c418517b21a1",
   "metadata": {},
   "outputs": [
    {
     "name": "stdout",
     "output_type": "stream",
     "text": [
      "<class 'pandas.core.frame.DataFrame'>\n",
      "Index: 202058 entries, 0 to 202064\n",
      "Data columns (total 14 columns):\n",
      " #   Column        Non-Null Count   Dtype         \n",
      "---  ------        --------------   -----         \n",
      " 0   show_id       202058 non-null  object        \n",
      " 1   type          202058 non-null  object        \n",
      " 2   title         202058 non-null  object        \n",
      " 3   date_added    201900 non-null  datetime64[ns]\n",
      " 4   release_year  202058 non-null  int64         \n",
      " 5   rating        202058 non-null  object        \n",
      " 6   description   202058 non-null  object        \n",
      " 7   cast          202058 non-null  object        \n",
      " 8   director      202058 non-null  object        \n",
      " 9   country       202058 non-null  object        \n",
      " 10  listed_in     202058 non-null  object        \n",
      " 11  new_duration  202058 non-null  int64         \n",
      " 12  week          201900 non-null  object        \n",
      " 13  month         201900 non-null  float64       \n",
      "dtypes: datetime64[ns](1), float64(1), int64(2), object(10)\n",
      "memory usage: 23.1+ MB\n"
     ]
    }
   ],
   "source": [
    "final_df.info()"
   ]
  },
  {
   "cell_type": "code",
   "execution_count": 93,
   "id": "cf6df95b-c0a1-48a2-bf99-50b68e82eb3c",
   "metadata": {},
   "outputs": [],
   "source": [
    "movie_duration = final_df[[\"type\",\"title\",\"new_duration\"]].drop_duplicates(subset=[\"type\",\"title\",\"new_duration\"],keep=\"first\").reset_index(drop=True)"
   ]
  },
  {
   "cell_type": "code",
   "execution_count": 94,
   "id": "299487dc-8f48-4a36-8c4a-1a0f14c5fc85",
   "metadata": {},
   "outputs": [
    {
     "data": {
      "text/html": [
       "<div>\n",
       "<style scoped>\n",
       "    .dataframe tbody tr th:only-of-type {\n",
       "        vertical-align: middle;\n",
       "    }\n",
       "\n",
       "    .dataframe tbody tr th {\n",
       "        vertical-align: top;\n",
       "    }\n",
       "\n",
       "    .dataframe thead th {\n",
       "        text-align: right;\n",
       "    }\n",
       "</style>\n",
       "<table border=\"1\" class=\"dataframe\">\n",
       "  <thead>\n",
       "    <tr style=\"text-align: right;\">\n",
       "      <th></th>\n",
       "      <th>type</th>\n",
       "      <th>title</th>\n",
       "      <th>new_duration</th>\n",
       "    </tr>\n",
       "  </thead>\n",
       "  <tbody>\n",
       "    <tr>\n",
       "      <th>0</th>\n",
       "      <td>Movie</td>\n",
       "      <td>Dick Johnson Is Dead</td>\n",
       "      <td>90</td>\n",
       "    </tr>\n",
       "    <tr>\n",
       "      <th>1</th>\n",
       "      <td>TV Show</td>\n",
       "      <td>Blood &amp; Water</td>\n",
       "      <td>2</td>\n",
       "    </tr>\n",
       "    <tr>\n",
       "      <th>2</th>\n",
       "      <td>TV Show</td>\n",
       "      <td>Ganglands</td>\n",
       "      <td>1</td>\n",
       "    </tr>\n",
       "    <tr>\n",
       "      <th>3</th>\n",
       "      <td>TV Show</td>\n",
       "      <td>Jailbirds New Orleans</td>\n",
       "      <td>1</td>\n",
       "    </tr>\n",
       "    <tr>\n",
       "      <th>4</th>\n",
       "      <td>TV Show</td>\n",
       "      <td>Kota Factory</td>\n",
       "      <td>2</td>\n",
       "    </tr>\n",
       "  </tbody>\n",
       "</table>\n",
       "</div>"
      ],
      "text/plain": [
       "      type                  title  new_duration\n",
       "0    Movie   Dick Johnson Is Dead            90\n",
       "1  TV Show          Blood & Water             2\n",
       "2  TV Show              Ganglands             1\n",
       "3  TV Show  Jailbirds New Orleans             1\n",
       "4  TV Show           Kota Factory             2"
      ]
     },
     "execution_count": 94,
     "metadata": {},
     "output_type": "execute_result"
    }
   ],
   "source": [
    "movie_duration.head()"
   ]
  },
  {
   "cell_type": "code",
   "execution_count": 95,
   "id": "706f484b-0336-49d9-aadc-70a64f9c85ce",
   "metadata": {},
   "outputs": [
    {
     "name": "stdout",
     "output_type": "stream",
     "text": [
      "<class 'pandas.core.frame.DataFrame'>\n",
      "RangeIndex: 8807 entries, 0 to 8806\n",
      "Data columns (total 3 columns):\n",
      " #   Column        Non-Null Count  Dtype \n",
      "---  ------        --------------  ----- \n",
      " 0   type          8807 non-null   object\n",
      " 1   title         8807 non-null   object\n",
      " 2   new_duration  8807 non-null   int64 \n",
      "dtypes: int64(1), object(2)\n",
      "memory usage: 206.5+ KB\n"
     ]
    }
   ],
   "source": [
    "movie_duration.info()"
   ]
  },
  {
   "cell_type": "code",
   "execution_count": 96,
   "id": "6f38323d-a0ca-4d3a-9ccf-bed29429f4ce",
   "metadata": {},
   "outputs": [],
   "source": [
    "duration_mean = movie_duration.groupby('type')['new_duration'].mean().reset_index()\n",
    "duration_mean.rename(columns={'new_duration': 'Avg_duration'}, inplace=True)"
   ]
  },
  {
   "cell_type": "code",
   "execution_count": 97,
   "id": "a84ada04-b718-4f83-89c9-bedd39d57c3f",
   "metadata": {},
   "outputs": [
    {
     "data": {
      "text/html": [
       "<div>\n",
       "<style scoped>\n",
       "    .dataframe tbody tr th:only-of-type {\n",
       "        vertical-align: middle;\n",
       "    }\n",
       "\n",
       "    .dataframe tbody tr th {\n",
       "        vertical-align: top;\n",
       "    }\n",
       "\n",
       "    .dataframe thead th {\n",
       "        text-align: right;\n",
       "    }\n",
       "</style>\n",
       "<table border=\"1\" class=\"dataframe\">\n",
       "  <thead>\n",
       "    <tr style=\"text-align: right;\">\n",
       "      <th></th>\n",
       "      <th>type</th>\n",
       "      <th>Avg_duration</th>\n",
       "    </tr>\n",
       "  </thead>\n",
       "  <tbody>\n",
       "    <tr>\n",
       "      <th>0</th>\n",
       "      <td>Movie</td>\n",
       "      <td>99.564998</td>\n",
       "    </tr>\n",
       "    <tr>\n",
       "      <th>1</th>\n",
       "      <td>TV Show</td>\n",
       "      <td>1.764948</td>\n",
       "    </tr>\n",
       "  </tbody>\n",
       "</table>\n",
       "</div>"
      ],
      "text/plain": [
       "      type  Avg_duration\n",
       "0    Movie     99.564998\n",
       "1  TV Show      1.764948"
      ]
     },
     "execution_count": 97,
     "metadata": {},
     "output_type": "execute_result"
    }
   ],
   "source": [
    "duration_mean.head()"
   ]
  },
  {
   "cell_type": "markdown",
   "id": "29a47d93-b9f0-412b-aa56-d3389a38c6f9",
   "metadata": {},
   "source": [
    "##### The average run time of movies is 99.5 minutes, and the average TV show season length is 1.7 seasons."
   ]
  },
  {
   "cell_type": "markdown",
   "id": "289c3dff-8298-4113-ba83-d553130e0543",
   "metadata": {},
   "source": [
    "#### Max duration of Movie & TV Show"
   ]
  },
  {
   "cell_type": "code",
   "execution_count": 98,
   "id": "d3c6a122-2fde-4d3c-9221-68ff8e0f3d82",
   "metadata": {},
   "outputs": [],
   "source": [
    "duration_max = movie_duration.loc[movie_duration.groupby('type')['new_duration'].idxmax()]"
   ]
  },
  {
   "cell_type": "code",
   "execution_count": 99,
   "id": "22cc5586-e978-4e33-8a88-b9a342fd1d10",
   "metadata": {},
   "outputs": [
    {
     "data": {
      "text/html": [
       "<div>\n",
       "<style scoped>\n",
       "    .dataframe tbody tr th:only-of-type {\n",
       "        vertical-align: middle;\n",
       "    }\n",
       "\n",
       "    .dataframe tbody tr th {\n",
       "        vertical-align: top;\n",
       "    }\n",
       "\n",
       "    .dataframe thead th {\n",
       "        text-align: right;\n",
       "    }\n",
       "</style>\n",
       "<table border=\"1\" class=\"dataframe\">\n",
       "  <thead>\n",
       "    <tr style=\"text-align: right;\">\n",
       "      <th></th>\n",
       "      <th>type</th>\n",
       "      <th>title</th>\n",
       "      <th>new_duration</th>\n",
       "    </tr>\n",
       "  </thead>\n",
       "  <tbody>\n",
       "    <tr>\n",
       "      <th>4253</th>\n",
       "      <td>Movie</td>\n",
       "      <td>Black Mirror: Bandersnatch</td>\n",
       "      <td>312</td>\n",
       "    </tr>\n",
       "    <tr>\n",
       "      <th>548</th>\n",
       "      <td>TV Show</td>\n",
       "      <td>Grey's Anatomy</td>\n",
       "      <td>17</td>\n",
       "    </tr>\n",
       "  </tbody>\n",
       "</table>\n",
       "</div>"
      ],
      "text/plain": [
       "         type                       title  new_duration\n",
       "4253    Movie  Black Mirror: Bandersnatch           312\n",
       "548   TV Show              Grey's Anatomy            17"
      ]
     },
     "execution_count": 99,
     "metadata": {},
     "output_type": "execute_result"
    }
   ],
   "source": [
    "duration_max"
   ]
  },
  {
   "cell_type": "markdown",
   "id": "fbd4e924-6fd1-4218-a1ea-90df73366347",
   "metadata": {},
   "source": [
    "##### The movie \"Black Mirror: Bandersnatch\" has the longest runtime of 312 minutes, while the TV show \"Grey's Anatomy\" has the most seasons with 17."
   ]
  },
  {
   "cell_type": "code",
   "execution_count": null,
   "id": "60511d84-1d14-43c4-96fc-67ac38279c38",
   "metadata": {},
   "outputs": [],
   "source": []
  }
 ],
 "metadata": {
  "kernelspec": {
   "display_name": "Python 3 (ipykernel)",
   "language": "python",
   "name": "python3"
  },
  "language_info": {
   "codemirror_mode": {
    "name": "ipython",
    "version": 3
   },
   "file_extension": ".py",
   "mimetype": "text/x-python",
   "name": "python",
   "nbconvert_exporter": "python",
   "pygments_lexer": "ipython3",
   "version": "3.11.7"
  }
 },
 "nbformat": 4,
 "nbformat_minor": 5
}
